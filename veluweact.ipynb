{
 "cells": [
  {
   "cell_type": "code",
   "execution_count": 150,
   "metadata": {},
   "outputs": [],
   "source": [
    "import pandas as pd\n",
    "import datetime\n",
    "import matplotlib.pyplot as plt\n",
    "import GetOldTweets3 as got\n",
    "import plotly.express as px\n",
    "from plotly.subplots import make_subplots\n",
    "import plotly.graph_objects as go"
   ]
  },
  {
   "cell_type": "code",
   "execution_count": 178,
   "metadata": {},
   "outputs": [
    {
     "output_type": "execute_result",
     "data": {
      "text/plain": "            Posbank  Netherlands, Gelderland, Rheden condition  \\\nDate                                                             \n2020-04-22      123                                      113.0   \n2020-04-23      220                                      122.0   \n2020-04-24      297                                      116.0   \n2020-04-25      303                                      116.0   \n2020-04-26      521                                      116.0   \n\n            Netherlands, Gelderland, Rheden temp  \\\nDate                                               \n2020-04-22                                  14.0   \n2020-04-23                                  15.0   \n2020-04-24                                  14.0   \n2020-04-25                                  10.0   \n2020-04-26                                  10.0   \n\n            Netherlands, Gelderland, Rheden tempMin  \\\nDate                                                  \n2020-04-22                                      9.0   \n2020-04-23                                      9.0   \n2020-04-24                                     10.0   \n2020-04-25                                      5.0   \n2020-04-26                                      4.0   \n\n            Netherlands, Gelderland, Rheden tempMax  \\\nDate                                                  \n2020-04-22                                     18.0   \n2020-04-23                                     21.0   \n2020-04-24                                     18.0   \n2020-04-25                                     16.0   \n2020-04-26                                     17.0   \n\n            Netherlands, Gelderland, Rheden humidity  \\\nDate                                                   \n2020-04-22                                      61.0   \n2020-04-23                                      63.0   \n2020-04-24                                      66.0   \n2020-04-25                                      71.0   \n2020-04-26                                      71.0   \n\n            Netherlands, Gelderland, Rheden cloudcover  \\\nDate                                                     \n2020-04-22                                         0.0   \n2020-04-23                                        29.0   \n2020-04-24                                        29.0   \n2020-04-25                                        21.0   \n2020-04-26                                        18.0   \n\n            Netherlands, Gelderland, Rheden tempFelt  \\\nDate                                                   \n2020-04-22                                      11.0   \n2020-04-23                                      14.0   \n2020-04-24                                      14.0   \n2020-04-25                                       9.0   \n2020-04-26                                      10.0   \n\n            Netherlands, Gelderland, Rheden precip  \\\nDate                                                 \n2020-04-22                                     0.0   \n2020-04-23                                     0.0   \n2020-04-24                                     0.0   \n2020-04-25                                     0.0   \n2020-04-26                                     0.0   \n\n            Netherlands, Gelderland, Rheden snowFall  \\\nDate                                                   \n2020-04-22                                       0.0   \n2020-04-23                                       0.0   \n2020-04-24                                       0.0   \n2020-04-25                                       0.0   \n2020-04-26                                       0.0   \n\n            Netherlands, Gelderland, Rheden wind  De Elsberg 1  De Elsberg 2  \\\nDate                                                                           \n2020-04-22                                  23.0           NaN           NaN   \n2020-04-23                                   9.0          12.0          15.0   \n2020-04-24                                  11.0          21.0          14.0   \n2020-04-25                                   9.0          32.0          26.0   \n2020-04-26                                   7.0          83.0          45.0   \n\n            Lappendeken  Year  Month Weekday Name  \nDate                                               \n2020-04-22           58  2020      4    Wednesday  \n2020-04-23           81  2020      4     Thursday  \n2020-04-24           88  2020      4       Friday  \n2020-04-25          127  2020      4     Saturday  \n2020-04-26          131  2020      4       Sunday  ",
      "text/html": "<div>\n<style scoped>\n    .dataframe tbody tr th:only-of-type {\n        vertical-align: middle;\n    }\n\n    .dataframe tbody tr th {\n        vertical-align: top;\n    }\n\n    .dataframe thead th {\n        text-align: right;\n    }\n</style>\n<table border=\"1\" class=\"dataframe\">\n  <thead>\n    <tr style=\"text-align: right;\">\n      <th></th>\n      <th>Posbank</th>\n      <th>Netherlands, Gelderland, Rheden condition</th>\n      <th>Netherlands, Gelderland, Rheden temp</th>\n      <th>Netherlands, Gelderland, Rheden tempMin</th>\n      <th>Netherlands, Gelderland, Rheden tempMax</th>\n      <th>Netherlands, Gelderland, Rheden humidity</th>\n      <th>Netherlands, Gelderland, Rheden cloudcover</th>\n      <th>Netherlands, Gelderland, Rheden tempFelt</th>\n      <th>Netherlands, Gelderland, Rheden precip</th>\n      <th>Netherlands, Gelderland, Rheden snowFall</th>\n      <th>Netherlands, Gelderland, Rheden wind</th>\n      <th>De Elsberg 1</th>\n      <th>De Elsberg 2</th>\n      <th>Lappendeken</th>\n      <th>Year</th>\n      <th>Month</th>\n      <th>Weekday Name</th>\n    </tr>\n    <tr>\n      <th>Date</th>\n      <th></th>\n      <th></th>\n      <th></th>\n      <th></th>\n      <th></th>\n      <th></th>\n      <th></th>\n      <th></th>\n      <th></th>\n      <th></th>\n      <th></th>\n      <th></th>\n      <th></th>\n      <th></th>\n      <th></th>\n      <th></th>\n      <th></th>\n    </tr>\n  </thead>\n  <tbody>\n    <tr>\n      <td>2020-04-22</td>\n      <td>123</td>\n      <td>113.0</td>\n      <td>14.0</td>\n      <td>9.0</td>\n      <td>18.0</td>\n      <td>61.0</td>\n      <td>0.0</td>\n      <td>11.0</td>\n      <td>0.0</td>\n      <td>0.0</td>\n      <td>23.0</td>\n      <td>NaN</td>\n      <td>NaN</td>\n      <td>58</td>\n      <td>2020</td>\n      <td>4</td>\n      <td>Wednesday</td>\n    </tr>\n    <tr>\n      <td>2020-04-23</td>\n      <td>220</td>\n      <td>122.0</td>\n      <td>15.0</td>\n      <td>9.0</td>\n      <td>21.0</td>\n      <td>63.0</td>\n      <td>29.0</td>\n      <td>14.0</td>\n      <td>0.0</td>\n      <td>0.0</td>\n      <td>9.0</td>\n      <td>12.0</td>\n      <td>15.0</td>\n      <td>81</td>\n      <td>2020</td>\n      <td>4</td>\n      <td>Thursday</td>\n    </tr>\n    <tr>\n      <td>2020-04-24</td>\n      <td>297</td>\n      <td>116.0</td>\n      <td>14.0</td>\n      <td>10.0</td>\n      <td>18.0</td>\n      <td>66.0</td>\n      <td>29.0</td>\n      <td>14.0</td>\n      <td>0.0</td>\n      <td>0.0</td>\n      <td>11.0</td>\n      <td>21.0</td>\n      <td>14.0</td>\n      <td>88</td>\n      <td>2020</td>\n      <td>4</td>\n      <td>Friday</td>\n    </tr>\n    <tr>\n      <td>2020-04-25</td>\n      <td>303</td>\n      <td>116.0</td>\n      <td>10.0</td>\n      <td>5.0</td>\n      <td>16.0</td>\n      <td>71.0</td>\n      <td>21.0</td>\n      <td>9.0</td>\n      <td>0.0</td>\n      <td>0.0</td>\n      <td>9.0</td>\n      <td>32.0</td>\n      <td>26.0</td>\n      <td>127</td>\n      <td>2020</td>\n      <td>4</td>\n      <td>Saturday</td>\n    </tr>\n    <tr>\n      <td>2020-04-26</td>\n      <td>521</td>\n      <td>116.0</td>\n      <td>10.0</td>\n      <td>4.0</td>\n      <td>17.0</td>\n      <td>71.0</td>\n      <td>18.0</td>\n      <td>10.0</td>\n      <td>0.0</td>\n      <td>0.0</td>\n      <td>7.0</td>\n      <td>83.0</td>\n      <td>45.0</td>\n      <td>131</td>\n      <td>2020</td>\n      <td>4</td>\n      <td>Sunday</td>\n    </tr>\n  </tbody>\n</table>\n</div>"
     },
     "metadata": {},
     "execution_count": 178
    }
   ],
   "source": [
    "timeseries = pd.read_csv('timeseries.csv', delimiter=';')\n",
    "weather_visitors = pd.read_csv('export.csv', delimiter=';')\n",
    "\n",
    "# Insert the timeseries data from all other locations (Posbank was already in the weather_visitors)\n",
    "weather_visitors[['De Elsberg 1', 'De Elsberg 2', 'Lappendeken']] = timeseries[['De Elsberg 1', 'De Elsberg 2', 'Lappendeken']]\n",
    "\n",
    "# Convert time to datetime format\n",
    "weather_visitors['Date'] = pd.to_datetime(weather_visitors.Time, infer_datetime_format=True)\n",
    "weather_visitors = weather_visitors.set_index('Date').drop(columns='Time')\n",
    "\n",
    "weather_visitors['Year'] = weather_visitors.index.year\n",
    "weather_visitors['Month'] = weather_visitors.index.month\n",
    "weather_visitors['Weekday Name'] = weather_visitors.index.weekday_name\n",
    "\n",
    "weather_visitors.head()"
   ]
  },
  {
   "cell_type": "code",
   "execution_count": 208,
   "metadata": {},
   "outputs": [
    {
     "output_type": "execute_result",
     "data": {
      "text/plain": "          Posbank  Netherlands, Gelderland, Rheden condition  \\\ncount   54.000000                                  53.000000   \nmean   287.037037                                 197.339623   \nstd    157.088362                                 102.236706   \nmin     40.000000                                 113.000000   \n25%    162.250000                                 116.000000   \n50%    248.500000                                 122.000000   \n75%    364.000000                                 353.000000   \nmax    746.000000                                 356.000000   \n\n       Netherlands, Gelderland, Rheden temp  \\\ncount                             53.000000   \nmean                              13.150943   \nstd                                3.421629   \nmin                                7.000000   \n25%                               10.000000   \n50%                               14.000000   \n75%                               16.000000   \nmax                               22.000000   \n\n       Netherlands, Gelderland, Rheden tempMin  \\\ncount                                53.000000   \nmean                                  8.490566   \nstd                                   3.196288   \nmin                                   2.000000   \n25%                                   6.000000   \n50%                                   9.000000   \n75%                                  11.000000   \nmax                                  16.000000   \n\n       Netherlands, Gelderland, Rheden tempMax  \\\ncount                                53.000000   \nmean                                 17.716981   \nstd                                   3.894658   \nmin                                  11.000000   \n25%                                  15.000000   \n50%                                  18.000000   \n75%                                  20.000000   \nmax                                  27.000000   \n\n       Netherlands, Gelderland, Rheden humidity  \\\ncount                                 53.000000   \nmean                                  72.528302   \nstd                                    7.838769   \nmin                                   56.000000   \n25%                                   67.000000   \n50%                                   71.000000   \n75%                                   78.000000   \nmax                                   91.000000   \n\n       Netherlands, Gelderland, Rheden cloudcover  \\\ncount                                   53.000000   \nmean                                    43.188679   \nstd                                     26.462642   \nmin                                      0.000000   \n25%                                     21.000000   \n50%                                     39.000000   \n75%                                     62.000000   \nmax                                     94.000000   \n\n       Netherlands, Gelderland, Rheden tempFelt  \\\ncount                                 53.000000   \nmean                                  12.245283   \nstd                                    4.108648   \nmin                                    4.000000   \n25%                                   10.000000   \n50%                                   13.000000   \n75%                                   15.000000   \nmax                                   22.000000   \n\n       Netherlands, Gelderland, Rheden precip  \\\ncount                               53.000000   \nmean                                 1.094340   \nstd                                  1.778765   \nmin                                  0.000000   \n25%                                  0.000000   \n50%                                  0.000000   \n75%                                  2.000000   \nmax                                  6.000000   \n\n       Netherlands, Gelderland, Rheden snowFall  \\\ncount                                      53.0   \nmean                                        0.0   \nstd                                         0.0   \nmin                                         0.0   \n25%                                         0.0   \n50%                                         0.0   \n75%                                         0.0   \nmax                                         0.0   \n\n       Netherlands, Gelderland, Rheden wind  De Elsberg 1  De Elsberg 2  \\\ncount                             53.000000     53.000000     53.000000   \nmean                              13.264151     32.245283     22.188679   \nstd                                5.140903     24.379141     18.820055   \nmin                                5.000000      0.000000      0.000000   \n25%                                9.000000     14.000000     10.000000   \n50%                               13.000000     27.000000     19.000000   \n75%                               16.000000     44.000000     31.000000   \nmax                               26.000000     99.000000     87.000000   \n\n       Lappendeken    Year      Month   n_tweets  \ncount    54.000000    54.0  54.000000  54.000000  \nmean     77.055556  2020.0   5.092593  17.685185  \nstd      40.072301     0.0   0.652094   4.733757  \nmin      15.000000  2020.0   4.000000   8.000000  \n25%      47.000000  2020.0   5.000000  14.000000  \n50%      66.000000  2020.0   5.000000  18.000000  \n75%     100.000000  2020.0   5.750000  21.000000  \nmax     164.000000  2020.0   6.000000  28.000000  ",
      "text/html": "<div>\n<style scoped>\n    .dataframe tbody tr th:only-of-type {\n        vertical-align: middle;\n    }\n\n    .dataframe tbody tr th {\n        vertical-align: top;\n    }\n\n    .dataframe thead th {\n        text-align: right;\n    }\n</style>\n<table border=\"1\" class=\"dataframe\">\n  <thead>\n    <tr style=\"text-align: right;\">\n      <th></th>\n      <th>Posbank</th>\n      <th>Netherlands, Gelderland, Rheden condition</th>\n      <th>Netherlands, Gelderland, Rheden temp</th>\n      <th>Netherlands, Gelderland, Rheden tempMin</th>\n      <th>Netherlands, Gelderland, Rheden tempMax</th>\n      <th>Netherlands, Gelderland, Rheden humidity</th>\n      <th>Netherlands, Gelderland, Rheden cloudcover</th>\n      <th>Netherlands, Gelderland, Rheden tempFelt</th>\n      <th>Netherlands, Gelderland, Rheden precip</th>\n      <th>Netherlands, Gelderland, Rheden snowFall</th>\n      <th>Netherlands, Gelderland, Rheden wind</th>\n      <th>De Elsberg 1</th>\n      <th>De Elsberg 2</th>\n      <th>Lappendeken</th>\n      <th>Year</th>\n      <th>Month</th>\n      <th>n_tweets</th>\n    </tr>\n  </thead>\n  <tbody>\n    <tr>\n      <td>count</td>\n      <td>54.000000</td>\n      <td>53.000000</td>\n      <td>53.000000</td>\n      <td>53.000000</td>\n      <td>53.000000</td>\n      <td>53.000000</td>\n      <td>53.000000</td>\n      <td>53.000000</td>\n      <td>53.000000</td>\n      <td>53.0</td>\n      <td>53.000000</td>\n      <td>53.000000</td>\n      <td>53.000000</td>\n      <td>54.000000</td>\n      <td>54.0</td>\n      <td>54.000000</td>\n      <td>54.000000</td>\n    </tr>\n    <tr>\n      <td>mean</td>\n      <td>287.037037</td>\n      <td>197.339623</td>\n      <td>13.150943</td>\n      <td>8.490566</td>\n      <td>17.716981</td>\n      <td>72.528302</td>\n      <td>43.188679</td>\n      <td>12.245283</td>\n      <td>1.094340</td>\n      <td>0.0</td>\n      <td>13.264151</td>\n      <td>32.245283</td>\n      <td>22.188679</td>\n      <td>77.055556</td>\n      <td>2020.0</td>\n      <td>5.092593</td>\n      <td>17.685185</td>\n    </tr>\n    <tr>\n      <td>std</td>\n      <td>157.088362</td>\n      <td>102.236706</td>\n      <td>3.421629</td>\n      <td>3.196288</td>\n      <td>3.894658</td>\n      <td>7.838769</td>\n      <td>26.462642</td>\n      <td>4.108648</td>\n      <td>1.778765</td>\n      <td>0.0</td>\n      <td>5.140903</td>\n      <td>24.379141</td>\n      <td>18.820055</td>\n      <td>40.072301</td>\n      <td>0.0</td>\n      <td>0.652094</td>\n      <td>4.733757</td>\n    </tr>\n    <tr>\n      <td>min</td>\n      <td>40.000000</td>\n      <td>113.000000</td>\n      <td>7.000000</td>\n      <td>2.000000</td>\n      <td>11.000000</td>\n      <td>56.000000</td>\n      <td>0.000000</td>\n      <td>4.000000</td>\n      <td>0.000000</td>\n      <td>0.0</td>\n      <td>5.000000</td>\n      <td>0.000000</td>\n      <td>0.000000</td>\n      <td>15.000000</td>\n      <td>2020.0</td>\n      <td>4.000000</td>\n      <td>8.000000</td>\n    </tr>\n    <tr>\n      <td>25%</td>\n      <td>162.250000</td>\n      <td>116.000000</td>\n      <td>10.000000</td>\n      <td>6.000000</td>\n      <td>15.000000</td>\n      <td>67.000000</td>\n      <td>21.000000</td>\n      <td>10.000000</td>\n      <td>0.000000</td>\n      <td>0.0</td>\n      <td>9.000000</td>\n      <td>14.000000</td>\n      <td>10.000000</td>\n      <td>47.000000</td>\n      <td>2020.0</td>\n      <td>5.000000</td>\n      <td>14.000000</td>\n    </tr>\n    <tr>\n      <td>50%</td>\n      <td>248.500000</td>\n      <td>122.000000</td>\n      <td>14.000000</td>\n      <td>9.000000</td>\n      <td>18.000000</td>\n      <td>71.000000</td>\n      <td>39.000000</td>\n      <td>13.000000</td>\n      <td>0.000000</td>\n      <td>0.0</td>\n      <td>13.000000</td>\n      <td>27.000000</td>\n      <td>19.000000</td>\n      <td>66.000000</td>\n      <td>2020.0</td>\n      <td>5.000000</td>\n      <td>18.000000</td>\n    </tr>\n    <tr>\n      <td>75%</td>\n      <td>364.000000</td>\n      <td>353.000000</td>\n      <td>16.000000</td>\n      <td>11.000000</td>\n      <td>20.000000</td>\n      <td>78.000000</td>\n      <td>62.000000</td>\n      <td>15.000000</td>\n      <td>2.000000</td>\n      <td>0.0</td>\n      <td>16.000000</td>\n      <td>44.000000</td>\n      <td>31.000000</td>\n      <td>100.000000</td>\n      <td>2020.0</td>\n      <td>5.750000</td>\n      <td>21.000000</td>\n    </tr>\n    <tr>\n      <td>max</td>\n      <td>746.000000</td>\n      <td>356.000000</td>\n      <td>22.000000</td>\n      <td>16.000000</td>\n      <td>27.000000</td>\n      <td>91.000000</td>\n      <td>94.000000</td>\n      <td>22.000000</td>\n      <td>6.000000</td>\n      <td>0.0</td>\n      <td>26.000000</td>\n      <td>99.000000</td>\n      <td>87.000000</td>\n      <td>164.000000</td>\n      <td>2020.0</td>\n      <td>6.000000</td>\n      <td>28.000000</td>\n    </tr>\n  </tbody>\n</table>\n</div>"
     },
     "metadata": {},
     "execution_count": 208
    }
   ],
   "source": [
    "weather_visitors.describe()"
   ]
  },
  {
   "cell_type": "markdown",
   "metadata": {},
   "source": [
    "Get tweets"
   ]
  },
  {
   "cell_type": "code",
   "execution_count": 5,
   "metadata": {},
   "outputs": [],
   "source": [
    "tweetCriteria = got.manager.TweetCriteria().setQuerySearch('#veluwe')\\\n",
    "                                           .setSince(\"2020-04-22\")\\\n",
    "                                           .setUntil(\"2020-06-15\")\n",
    "tweets = got.manager.TweetManager.getTweets(tweetCriteria)"
   ]
  },
  {
   "cell_type": "code",
   "execution_count": 13,
   "metadata": {},
   "outputs": [],
   "source": [
    "# creating list of tweets with the tweet attributes \n",
    "# specified in the list comprehension\n",
    "text_tweets = [[tw.username,\n",
    "            tw.text,\n",
    "            tw.date,\n",
    "            tw.retweets,\n",
    "            tw.favorites,\n",
    "            tw.mentions,\n",
    "            tw.hashtags] for tw in tweets]\n",
    "\n",
    "# creating dataframe, assigning column names to list of\n",
    "# tweets corresponding to tweet attributes\n",
    "tweets_df = pd.DataFrame(text_tweets, columns = ['User', 'Text','Date', 'Favorites', 'Retweets', 'Mentions', 'HashTags'])\n",
    "tweets_df.Date.dt.date.value_counts().plot()"
   ]
  },
  {
   "cell_type": "code",
   "execution_count": 179,
   "metadata": {},
   "outputs": [],
   "source": [
    "# Get the amount of tweets of every day, and append them to the weather_visitors dataframe\n",
    "tweet_counts = tweets_df.Date.dt.date.value_counts()\n",
    "weather_visitors['n_tweets'] = weather_visitors.apply(lambda row: tweet_counts.get(key=row.name.to_pydatetime().date()), axis=1)\n",
    "\n",
    "weather_visitors = weather_visitors.dropna()\n",
    "weather_visitors.head()"
   ]
  },
  {
   "cell_type": "code",
   "execution_count": 306,
   "metadata": {},
   "outputs": [
    {
     "output_type": "display_data",
     "data": {
      "application/vnd.plotly.v1+json": {
       "config": {
        "plotlyServerURL": "https://plot.ly"
       },
       "data": [
        {
         "name": "Posbank",
         "type": "box",
         "x": [
          "Thursday",
          "Friday",
          "Saturday",
          "Sunday",
          "Monday",
          "Tuesday",
          "Wednesday",
          "Thursday",
          "Friday",
          "Saturday",
          "Sunday",
          "Monday",
          "Tuesday",
          "Wednesday",
          "Thursday",
          "Friday",
          "Saturday",
          "Sunday",
          "Monday",
          "Tuesday",
          "Wednesday",
          "Thursday",
          "Friday",
          "Saturday",
          "Sunday",
          "Monday",
          "Tuesday",
          "Wednesday",
          "Thursday",
          "Friday",
          "Saturday",
          "Sunday",
          "Monday",
          "Tuesday",
          "Wednesday",
          "Thursday",
          "Friday",
          "Saturday",
          "Sunday",
          "Monday",
          "Tuesday",
          "Wednesday",
          "Thursday",
          "Friday",
          "Saturday",
          "Sunday",
          "Monday",
          "Tuesday",
          "Wednesday",
          "Thursday",
          "Friday",
          "Saturday"
         ],
         "xaxis": "x",
         "y": [
          220,
          297,
          303,
          521,
          395,
          104,
          227,
          247,
          138,
          230,
          650,
          387,
          639,
          298,
          347,
          303,
          385,
          330,
          142,
          129,
          148,
          286,
          250,
          369,
          628,
          220,
          172,
          229,
          511,
          343,
          488,
          146,
          204,
          213,
          215,
          257,
          282,
          446,
          746,
          446,
          113,
          156,
          51,
          40,
          302,
          394,
          113,
          159,
          225,
          144,
          200,
          349
         ],
         "yaxis": "y"
        },
        {
         "name": "Lappendeken",
         "type": "box",
         "x": [
          "Thursday",
          "Friday",
          "Saturday",
          "Sunday",
          "Monday",
          "Tuesday",
          "Wednesday",
          "Thursday",
          "Friday",
          "Saturday",
          "Sunday",
          "Monday",
          "Tuesday",
          "Wednesday",
          "Thursday",
          "Friday",
          "Saturday",
          "Sunday",
          "Monday",
          "Tuesday",
          "Wednesday",
          "Thursday",
          "Friday",
          "Saturday",
          "Sunday",
          "Monday",
          "Tuesday",
          "Wednesday",
          "Thursday",
          "Friday",
          "Saturday",
          "Sunday",
          "Monday",
          "Tuesday",
          "Wednesday",
          "Thursday",
          "Friday",
          "Saturday",
          "Sunday",
          "Monday",
          "Tuesday",
          "Wednesday",
          "Thursday",
          "Friday",
          "Saturday",
          "Sunday",
          "Monday",
          "Tuesday",
          "Wednesday",
          "Thursday",
          "Friday",
          "Saturday"
         ],
         "xaxis": "x2",
         "y": [
          81,
          88,
          127,
          131,
          66,
          34,
          78,
          74,
          66,
          91,
          164,
          76,
          130,
          63,
          52,
          90,
          124,
          118,
          38,
          57,
          48,
          48,
          36,
          130,
          162,
          33,
          30,
          38,
          137,
          70,
          103,
          87,
          47,
          34,
          48,
          45,
          59,
          89,
          142,
          120,
          31,
          38,
          66,
          15,
          91,
          163,
          38,
          51,
          32,
          47,
          57,
          77
         ],
         "yaxis": "y2"
        },
        {
         "name": "De Elsberg 1",
         "type": "box",
         "x": [
          "Thursday",
          "Friday",
          "Saturday",
          "Sunday",
          "Monday",
          "Tuesday",
          "Wednesday",
          "Thursday",
          "Friday",
          "Saturday",
          "Sunday",
          "Monday",
          "Tuesday",
          "Wednesday",
          "Thursday",
          "Friday",
          "Saturday",
          "Sunday",
          "Monday",
          "Tuesday",
          "Wednesday",
          "Thursday",
          "Friday",
          "Saturday",
          "Sunday",
          "Monday",
          "Tuesday",
          "Wednesday",
          "Thursday",
          "Friday",
          "Saturday",
          "Sunday",
          "Monday",
          "Tuesday",
          "Wednesday",
          "Thursday",
          "Friday",
          "Saturday",
          "Sunday",
          "Monday",
          "Tuesday",
          "Wednesday",
          "Thursday",
          "Friday",
          "Saturday",
          "Sunday",
          "Monday",
          "Tuesday",
          "Wednesday",
          "Thursday",
          "Friday",
          "Saturday"
         ],
         "xaxis": "x4",
         "y": [
          12,
          21,
          32,
          83,
          41,
          11,
          40,
          19,
          11,
          37,
          99,
          21,
          44,
          38,
          25,
          26,
          57,
          56,
          14,
          22,
          63,
          40,
          23,
          40,
          72,
          52,
          25,
          27,
          48,
          34,
          33,
          44,
          24,
          27,
          34,
          19,
          15,
          75,
          85,
          61,
          12,
          56,
          10,
          3,
          19,
          59,
          0,
          0,
          0,
          0,
          0,
          0
         ],
         "yaxis": "y4"
        },
        {
         "name": "De Elsberg 2",
         "type": "box",
         "x": [
          "Thursday",
          "Friday",
          "Saturday",
          "Sunday",
          "Monday",
          "Tuesday",
          "Wednesday",
          "Thursday",
          "Friday",
          "Saturday",
          "Sunday",
          "Monday",
          "Tuesday",
          "Wednesday",
          "Thursday",
          "Friday",
          "Saturday",
          "Sunday",
          "Monday",
          "Tuesday",
          "Wednesday",
          "Thursday",
          "Friday",
          "Saturday",
          "Sunday",
          "Monday",
          "Tuesday",
          "Wednesday",
          "Thursday",
          "Friday",
          "Saturday",
          "Sunday",
          "Monday",
          "Tuesday",
          "Wednesday",
          "Thursday",
          "Friday",
          "Saturday",
          "Sunday",
          "Monday",
          "Tuesday",
          "Wednesday",
          "Thursday",
          "Friday",
          "Saturday",
          "Sunday",
          "Monday",
          "Tuesday",
          "Wednesday",
          "Thursday",
          "Friday",
          "Saturday"
         ],
         "xaxis": "x5",
         "y": [
          15,
          14,
          26,
          45,
          32,
          11,
          31,
          14,
          10,
          29,
          87,
          18,
          68,
          0,
          0,
          0,
          0,
          23,
          9,
          17,
          40,
          22,
          14,
          33,
          60,
          5,
          18,
          21,
          37,
          18,
          21,
          42,
          19,
          23,
          28,
          19,
          12,
          24,
          0,
          0,
          0,
          40,
          6,
          3,
          22,
          65,
          42,
          12,
          26,
          9,
          12,
          34
         ],
         "yaxis": "y5"
        },
        {
         "name": "n_tweets",
         "type": "box",
         "x": [
          "Thursday",
          "Friday",
          "Saturday",
          "Sunday",
          "Monday",
          "Tuesday",
          "Wednesday",
          "Thursday",
          "Friday",
          "Saturday",
          "Sunday",
          "Monday",
          "Tuesday",
          "Wednesday",
          "Thursday",
          "Friday",
          "Saturday",
          "Sunday",
          "Monday",
          "Tuesday",
          "Wednesday",
          "Thursday",
          "Friday",
          "Saturday",
          "Sunday",
          "Monday",
          "Tuesday",
          "Wednesday",
          "Thursday",
          "Friday",
          "Saturday",
          "Sunday",
          "Monday",
          "Tuesday",
          "Wednesday",
          "Thursday",
          "Friday",
          "Saturday",
          "Sunday",
          "Monday",
          "Tuesday",
          "Wednesday",
          "Thursday",
          "Friday",
          "Saturday",
          "Sunday",
          "Monday",
          "Tuesday",
          "Wednesday",
          "Thursday",
          "Friday",
          "Saturday"
         ],
         "xaxis": "x3",
         "y": [
          19,
          13,
          11,
          18,
          12,
          14,
          23,
          13,
          14,
          18,
          14,
          12,
          13,
          11,
          10,
          10,
          11,
          8,
          15,
          23,
          19,
          26,
          26,
          23,
          14,
          20,
          20,
          20,
          20,
          22,
          28,
          21,
          18,
          15,
          21,
          21,
          21,
          19,
          22,
          24,
          19,
          23,
          14,
          22,
          9,
          17,
          18,
          19,
          17,
          20,
          18,
          22
         ],
         "yaxis": "y3"
        }
       ],
       "layout": {
        "height": 600,
        "template": {
         "data": {
          "bar": [
           {
            "error_x": {
             "color": "#2a3f5f"
            },
            "error_y": {
             "color": "#2a3f5f"
            },
            "marker": {
             "line": {
              "color": "#E5ECF6",
              "width": 0.5
             }
            },
            "type": "bar"
           }
          ],
          "barpolar": [
           {
            "marker": {
             "line": {
              "color": "#E5ECF6",
              "width": 0.5
             }
            },
            "type": "barpolar"
           }
          ],
          "carpet": [
           {
            "aaxis": {
             "endlinecolor": "#2a3f5f",
             "gridcolor": "white",
             "linecolor": "white",
             "minorgridcolor": "white",
             "startlinecolor": "#2a3f5f"
            },
            "baxis": {
             "endlinecolor": "#2a3f5f",
             "gridcolor": "white",
             "linecolor": "white",
             "minorgridcolor": "white",
             "startlinecolor": "#2a3f5f"
            },
            "type": "carpet"
           }
          ],
          "choropleth": [
           {
            "colorbar": {
             "outlinewidth": 0,
             "ticks": ""
            },
            "type": "choropleth"
           }
          ],
          "contour": [
           {
            "colorbar": {
             "outlinewidth": 0,
             "ticks": ""
            },
            "colorscale": [
             [
              0,
              "#0d0887"
             ],
             [
              0.1111111111111111,
              "#46039f"
             ],
             [
              0.2222222222222222,
              "#7201a8"
             ],
             [
              0.3333333333333333,
              "#9c179e"
             ],
             [
              0.4444444444444444,
              "#bd3786"
             ],
             [
              0.5555555555555556,
              "#d8576b"
             ],
             [
              0.6666666666666666,
              "#ed7953"
             ],
             [
              0.7777777777777778,
              "#fb9f3a"
             ],
             [
              0.8888888888888888,
              "#fdca26"
             ],
             [
              1,
              "#f0f921"
             ]
            ],
            "type": "contour"
           }
          ],
          "contourcarpet": [
           {
            "colorbar": {
             "outlinewidth": 0,
             "ticks": ""
            },
            "type": "contourcarpet"
           }
          ],
          "heatmap": [
           {
            "colorbar": {
             "outlinewidth": 0,
             "ticks": ""
            },
            "colorscale": [
             [
              0,
              "#0d0887"
             ],
             [
              0.1111111111111111,
              "#46039f"
             ],
             [
              0.2222222222222222,
              "#7201a8"
             ],
             [
              0.3333333333333333,
              "#9c179e"
             ],
             [
              0.4444444444444444,
              "#bd3786"
             ],
             [
              0.5555555555555556,
              "#d8576b"
             ],
             [
              0.6666666666666666,
              "#ed7953"
             ],
             [
              0.7777777777777778,
              "#fb9f3a"
             ],
             [
              0.8888888888888888,
              "#fdca26"
             ],
             [
              1,
              "#f0f921"
             ]
            ],
            "type": "heatmap"
           }
          ],
          "heatmapgl": [
           {
            "colorbar": {
             "outlinewidth": 0,
             "ticks": ""
            },
            "colorscale": [
             [
              0,
              "#0d0887"
             ],
             [
              0.1111111111111111,
              "#46039f"
             ],
             [
              0.2222222222222222,
              "#7201a8"
             ],
             [
              0.3333333333333333,
              "#9c179e"
             ],
             [
              0.4444444444444444,
              "#bd3786"
             ],
             [
              0.5555555555555556,
              "#d8576b"
             ],
             [
              0.6666666666666666,
              "#ed7953"
             ],
             [
              0.7777777777777778,
              "#fb9f3a"
             ],
             [
              0.8888888888888888,
              "#fdca26"
             ],
             [
              1,
              "#f0f921"
             ]
            ],
            "type": "heatmapgl"
           }
          ],
          "histogram": [
           {
            "marker": {
             "colorbar": {
              "outlinewidth": 0,
              "ticks": ""
             }
            },
            "type": "histogram"
           }
          ],
          "histogram2d": [
           {
            "colorbar": {
             "outlinewidth": 0,
             "ticks": ""
            },
            "colorscale": [
             [
              0,
              "#0d0887"
             ],
             [
              0.1111111111111111,
              "#46039f"
             ],
             [
              0.2222222222222222,
              "#7201a8"
             ],
             [
              0.3333333333333333,
              "#9c179e"
             ],
             [
              0.4444444444444444,
              "#bd3786"
             ],
             [
              0.5555555555555556,
              "#d8576b"
             ],
             [
              0.6666666666666666,
              "#ed7953"
             ],
             [
              0.7777777777777778,
              "#fb9f3a"
             ],
             [
              0.8888888888888888,
              "#fdca26"
             ],
             [
              1,
              "#f0f921"
             ]
            ],
            "type": "histogram2d"
           }
          ],
          "histogram2dcontour": [
           {
            "colorbar": {
             "outlinewidth": 0,
             "ticks": ""
            },
            "colorscale": [
             [
              0,
              "#0d0887"
             ],
             [
              0.1111111111111111,
              "#46039f"
             ],
             [
              0.2222222222222222,
              "#7201a8"
             ],
             [
              0.3333333333333333,
              "#9c179e"
             ],
             [
              0.4444444444444444,
              "#bd3786"
             ],
             [
              0.5555555555555556,
              "#d8576b"
             ],
             [
              0.6666666666666666,
              "#ed7953"
             ],
             [
              0.7777777777777778,
              "#fb9f3a"
             ],
             [
              0.8888888888888888,
              "#fdca26"
             ],
             [
              1,
              "#f0f921"
             ]
            ],
            "type": "histogram2dcontour"
           }
          ],
          "mesh3d": [
           {
            "colorbar": {
             "outlinewidth": 0,
             "ticks": ""
            },
            "type": "mesh3d"
           }
          ],
          "parcoords": [
           {
            "line": {
             "colorbar": {
              "outlinewidth": 0,
              "ticks": ""
             }
            },
            "type": "parcoords"
           }
          ],
          "pie": [
           {
            "automargin": true,
            "type": "pie"
           }
          ],
          "scatter": [
           {
            "marker": {
             "colorbar": {
              "outlinewidth": 0,
              "ticks": ""
             }
            },
            "type": "scatter"
           }
          ],
          "scatter3d": [
           {
            "line": {
             "colorbar": {
              "outlinewidth": 0,
              "ticks": ""
             }
            },
            "marker": {
             "colorbar": {
              "outlinewidth": 0,
              "ticks": ""
             }
            },
            "type": "scatter3d"
           }
          ],
          "scattercarpet": [
           {
            "marker": {
             "colorbar": {
              "outlinewidth": 0,
              "ticks": ""
             }
            },
            "type": "scattercarpet"
           }
          ],
          "scattergeo": [
           {
            "marker": {
             "colorbar": {
              "outlinewidth": 0,
              "ticks": ""
             }
            },
            "type": "scattergeo"
           }
          ],
          "scattergl": [
           {
            "marker": {
             "colorbar": {
              "outlinewidth": 0,
              "ticks": ""
             }
            },
            "type": "scattergl"
           }
          ],
          "scattermapbox": [
           {
            "marker": {
             "colorbar": {
              "outlinewidth": 0,
              "ticks": ""
             }
            },
            "type": "scattermapbox"
           }
          ],
          "scatterpolar": [
           {
            "marker": {
             "colorbar": {
              "outlinewidth": 0,
              "ticks": ""
             }
            },
            "type": "scatterpolar"
           }
          ],
          "scatterpolargl": [
           {
            "marker": {
             "colorbar": {
              "outlinewidth": 0,
              "ticks": ""
             }
            },
            "type": "scatterpolargl"
           }
          ],
          "scatterternary": [
           {
            "marker": {
             "colorbar": {
              "outlinewidth": 0,
              "ticks": ""
             }
            },
            "type": "scatterternary"
           }
          ],
          "surface": [
           {
            "colorbar": {
             "outlinewidth": 0,
             "ticks": ""
            },
            "colorscale": [
             [
              0,
              "#0d0887"
             ],
             [
              0.1111111111111111,
              "#46039f"
             ],
             [
              0.2222222222222222,
              "#7201a8"
             ],
             [
              0.3333333333333333,
              "#9c179e"
             ],
             [
              0.4444444444444444,
              "#bd3786"
             ],
             [
              0.5555555555555556,
              "#d8576b"
             ],
             [
              0.6666666666666666,
              "#ed7953"
             ],
             [
              0.7777777777777778,
              "#fb9f3a"
             ],
             [
              0.8888888888888888,
              "#fdca26"
             ],
             [
              1,
              "#f0f921"
             ]
            ],
            "type": "surface"
           }
          ],
          "table": [
           {
            "cells": {
             "fill": {
              "color": "#EBF0F8"
             },
             "line": {
              "color": "white"
             }
            },
            "header": {
             "fill": {
              "color": "#C8D4E3"
             },
             "line": {
              "color": "white"
             }
            },
            "type": "table"
           }
          ]
         },
         "layout": {
          "annotationdefaults": {
           "arrowcolor": "#2a3f5f",
           "arrowhead": 0,
           "arrowwidth": 1
          },
          "coloraxis": {
           "colorbar": {
            "outlinewidth": 0,
            "ticks": ""
           }
          },
          "colorscale": {
           "diverging": [
            [
             0,
             "#8e0152"
            ],
            [
             0.1,
             "#c51b7d"
            ],
            [
             0.2,
             "#de77ae"
            ],
            [
             0.3,
             "#f1b6da"
            ],
            [
             0.4,
             "#fde0ef"
            ],
            [
             0.5,
             "#f7f7f7"
            ],
            [
             0.6,
             "#e6f5d0"
            ],
            [
             0.7,
             "#b8e186"
            ],
            [
             0.8,
             "#7fbc41"
            ],
            [
             0.9,
             "#4d9221"
            ],
            [
             1,
             "#276419"
            ]
           ],
           "sequential": [
            [
             0,
             "#0d0887"
            ],
            [
             0.1111111111111111,
             "#46039f"
            ],
            [
             0.2222222222222222,
             "#7201a8"
            ],
            [
             0.3333333333333333,
             "#9c179e"
            ],
            [
             0.4444444444444444,
             "#bd3786"
            ],
            [
             0.5555555555555556,
             "#d8576b"
            ],
            [
             0.6666666666666666,
             "#ed7953"
            ],
            [
             0.7777777777777778,
             "#fb9f3a"
            ],
            [
             0.8888888888888888,
             "#fdca26"
            ],
            [
             1,
             "#f0f921"
            ]
           ],
           "sequentialminus": [
            [
             0,
             "#0d0887"
            ],
            [
             0.1111111111111111,
             "#46039f"
            ],
            [
             0.2222222222222222,
             "#7201a8"
            ],
            [
             0.3333333333333333,
             "#9c179e"
            ],
            [
             0.4444444444444444,
             "#bd3786"
            ],
            [
             0.5555555555555556,
             "#d8576b"
            ],
            [
             0.6666666666666666,
             "#ed7953"
            ],
            [
             0.7777777777777778,
             "#fb9f3a"
            ],
            [
             0.8888888888888888,
             "#fdca26"
            ],
            [
             1,
             "#f0f921"
            ]
           ]
          },
          "colorway": [
           "#636efa",
           "#EF553B",
           "#00cc96",
           "#ab63fa",
           "#FFA15A",
           "#19d3f3",
           "#FF6692",
           "#B6E880",
           "#FF97FF",
           "#FECB52"
          ],
          "font": {
           "color": "#2a3f5f"
          },
          "geo": {
           "bgcolor": "white",
           "lakecolor": "white",
           "landcolor": "#E5ECF6",
           "showlakes": true,
           "showland": true,
           "subunitcolor": "white"
          },
          "hoverlabel": {
           "align": "left"
          },
          "hovermode": "closest",
          "mapbox": {
           "style": "light"
          },
          "paper_bgcolor": "white",
          "plot_bgcolor": "#E5ECF6",
          "polar": {
           "angularaxis": {
            "gridcolor": "white",
            "linecolor": "white",
            "ticks": ""
           },
           "bgcolor": "#E5ECF6",
           "radialaxis": {
            "gridcolor": "white",
            "linecolor": "white",
            "ticks": ""
           }
          },
          "scene": {
           "xaxis": {
            "backgroundcolor": "#E5ECF6",
            "gridcolor": "white",
            "gridwidth": 2,
            "linecolor": "white",
            "showbackground": true,
            "ticks": "",
            "zerolinecolor": "white"
           },
           "yaxis": {
            "backgroundcolor": "#E5ECF6",
            "gridcolor": "white",
            "gridwidth": 2,
            "linecolor": "white",
            "showbackground": true,
            "ticks": "",
            "zerolinecolor": "white"
           },
           "zaxis": {
            "backgroundcolor": "#E5ECF6",
            "gridcolor": "white",
            "gridwidth": 2,
            "linecolor": "white",
            "showbackground": true,
            "ticks": "",
            "zerolinecolor": "white"
           }
          },
          "shapedefaults": {
           "line": {
            "color": "#2a3f5f"
           }
          },
          "ternary": {
           "aaxis": {
            "gridcolor": "white",
            "linecolor": "white",
            "ticks": ""
           },
           "baxis": {
            "gridcolor": "white",
            "linecolor": "white",
            "ticks": ""
           },
           "bgcolor": "#E5ECF6",
           "caxis": {
            "gridcolor": "white",
            "linecolor": "white",
            "ticks": ""
           }
          },
          "title": {
           "x": 0.05
          },
          "xaxis": {
           "automargin": true,
           "gridcolor": "white",
           "linecolor": "white",
           "ticks": "",
           "title": {
            "standoff": 15
           },
           "zerolinecolor": "white",
           "zerolinewidth": 2
          },
          "yaxis": {
           "automargin": true,
           "gridcolor": "white",
           "linecolor": "white",
           "ticks": "",
           "title": {
            "standoff": 15
           },
           "zerolinecolor": "white",
           "zerolinewidth": 2
          }
         }
        },
        "title": {
         "text": "Box Plots van Bezoekersaantallen en Tweets"
        },
        "width": 800,
        "xaxis": {
         "anchor": "y",
         "domain": [
          0,
          0.2888888888888889
         ]
        },
        "xaxis2": {
         "anchor": "y2",
         "domain": [
          0.35555555555555557,
          0.6444444444444445
         ]
        },
        "xaxis3": {
         "anchor": "y3",
         "domain": [
          0.7111111111111111,
          1
         ]
        },
        "xaxis4": {
         "anchor": "y4",
         "domain": [
          0,
          0.2888888888888889
         ]
        },
        "xaxis5": {
         "anchor": "y5",
         "domain": [
          0.35555555555555557,
          0.6444444444444445
         ]
        },
        "xaxis6": {
         "anchor": "y6",
         "domain": [
          0.7111111111111111,
          1
         ]
        },
        "yaxis": {
         "anchor": "x",
         "domain": [
          0.575,
          1
         ]
        },
        "yaxis2": {
         "anchor": "x2",
         "domain": [
          0.575,
          1
         ]
        },
        "yaxis3": {
         "anchor": "x3",
         "domain": [
          0.575,
          1
         ]
        },
        "yaxis4": {
         "anchor": "x4",
         "domain": [
          0,
          0.425
         ]
        },
        "yaxis5": {
         "anchor": "x5",
         "domain": [
          0,
          0.425
         ]
        },
        "yaxis6": {
         "anchor": "x6",
         "domain": [
          0,
          0.425
         ]
        }
       }
      }
     },
     "metadata": {}
    }
   ],
   "source": [
    "# Plot visitor data boxplots\n",
    "fig = make_subplots(rows=2, cols=3)\n",
    "\n",
    "fig.add_trace(\n",
    "    go.Box(x=weather_visitors['Weekday Name'], y=weather_visitors['Posbank'], name='Posbank'),\n",
    "    row=1, col=1\n",
    ")\n",
    "\n",
    "fig.add_trace(\n",
    "        go.Box(x=weather_visitors['Weekday Name'], y=weather_visitors['Lappendeken'], name='Lappendeken'),\n",
    "    row=1, col=2\n",
    ")\n",
    "\n",
    "fig.add_trace(\n",
    "        go.Box(x=weather_visitors['Weekday Name'], y=weather_visitors['De Elsberg 1'], name='De Elsberg 1'),\n",
    "    row=2, col=1\n",
    ")\n",
    "\n",
    "fig.add_trace(\n",
    "        go.Box(x=weather_visitors['Weekday Name'], y=weather_visitors['De Elsberg 2'], name='De Elsberg 2'),\n",
    "    row=2, col=2\n",
    ")\n",
    "\n",
    "fig.add_trace(\n",
    "        go.Box(x=weather_visitors['Weekday Name'], y=weather_visitors['n_tweets'], name='n_tweets'),\n",
    "    row=1, col=3\n",
    ")\n",
    "\n",
    "fig.update_layout(height=600, width=800, title_text=\"Box Plots van Bezoekersaantallen en Tweets\")\n",
    "fig.show()"
   ]
  },
  {
   "cell_type": "code",
   "execution_count": 291,
   "metadata": {},
   "outputs": [
    {
     "output_type": "display_data",
     "data": {
      "application/vnd.plotly.v1+json": {
       "config": {
        "plotlyServerURL": "https://plot.ly"
       },
       "data": [
        {
         "hoverlabel": {
          "namelength": 0
         },
         "hovertemplate": "n_tweets=%{x}<br>Posbank=%{y}",
         "legendgroup": "",
         "marker": {
          "color": "#636efa",
          "symbol": "circle"
         },
         "mode": "markers",
         "name": "",
         "showlegend": false,
         "type": "scatter",
         "x": [
          19,
          13,
          11,
          18,
          12,
          14,
          23,
          13,
          14,
          18,
          14,
          12,
          13,
          11,
          10,
          10,
          11,
          8,
          15,
          23,
          19,
          26,
          26,
          23,
          14,
          20,
          20,
          20,
          20,
          22,
          28,
          21,
          18,
          15,
          21,
          21,
          21,
          19,
          22,
          24,
          19,
          23,
          14,
          22,
          9,
          17,
          18,
          19,
          17,
          20,
          18,
          22
         ],
         "xaxis": "x",
         "y": [
          220,
          297,
          303,
          521,
          395,
          104,
          227,
          247,
          138,
          230,
          650,
          387,
          639,
          298,
          347,
          303,
          385,
          330,
          142,
          129,
          148,
          286,
          250,
          369,
          628,
          220,
          172,
          229,
          511,
          343,
          488,
          146,
          204,
          213,
          215,
          257,
          282,
          446,
          746,
          446,
          113,
          156,
          51,
          40,
          302,
          394,
          113,
          159,
          225,
          144,
          200,
          349
         ],
         "yaxis": "y"
        },
        {
         "hoverlabel": {
          "namelength": 0
         },
         "hovertemplate": "<b>OLS trendline</b><br>Posbank = -2.980819 * n_tweets + 343.833722<br>R<sup>2</sup>=0.008254<br><br>n_tweets=%{x}<br>Posbank=%{y} <b>(trend)</b>",
         "legendgroup": "",
         "marker": {
          "color": "#636efa",
          "symbol": "circle"
         },
         "mode": "lines",
         "name": "",
         "showlegend": false,
         "type": "scatter",
         "x": [
          8,
          9,
          10,
          10,
          11,
          11,
          11,
          12,
          12,
          13,
          13,
          13,
          14,
          14,
          14,
          14,
          14,
          15,
          15,
          17,
          17,
          18,
          18,
          18,
          18,
          18,
          19,
          19,
          19,
          19,
          19,
          20,
          20,
          20,
          20,
          20,
          21,
          21,
          21,
          21,
          22,
          22,
          22,
          22,
          23,
          23,
          23,
          23,
          24,
          26,
          26,
          28
         ],
         "xaxis": "x",
         "y": [
          319.9871695178847,
          317.0063504406426,
          314.02553136340055,
          314.02553136340055,
          311.0447122861584,
          311.0447122861584,
          311.0447122861584,
          308.06389320891634,
          308.06389320891634,
          305.0830741316742,
          305.0830741316742,
          305.0830741316742,
          302.10225505443213,
          302.10225505443213,
          302.10225505443213,
          302.10225505443213,
          302.10225505443213,
          299.12143597719,
          299.12143597719,
          293.1597978227058,
          293.1597978227058,
          290.1789787454637,
          290.1789787454637,
          290.1789787454637,
          290.1789787454637,
          290.1789787454637,
          287.1981596682216,
          287.1981596682216,
          287.1981596682216,
          287.1981596682216,
          287.1981596682216,
          284.2173405909795,
          284.2173405909795,
          284.2173405909795,
          284.2173405909795,
          284.2173405909795,
          281.23652151373744,
          281.23652151373744,
          281.23652151373744,
          281.23652151373744,
          278.2557024364953,
          278.2557024364953,
          278.2557024364953,
          278.2557024364953,
          275.27488335925324,
          275.27488335925324,
          275.27488335925324,
          275.27488335925324,
          272.2940642820111,
          266.3324261275269,
          266.3324261275269,
          260.37078797304275
         ],
         "yaxis": "y"
        }
       ],
       "layout": {
        "height": 600,
        "legend": {
         "tracegroupgap": 0
        },
        "margin": {
         "t": 60
        },
        "template": {
         "data": {
          "bar": [
           {
            "error_x": {
             "color": "#2a3f5f"
            },
            "error_y": {
             "color": "#2a3f5f"
            },
            "marker": {
             "line": {
              "color": "#E5ECF6",
              "width": 0.5
             }
            },
            "type": "bar"
           }
          ],
          "barpolar": [
           {
            "marker": {
             "line": {
              "color": "#E5ECF6",
              "width": 0.5
             }
            },
            "type": "barpolar"
           }
          ],
          "carpet": [
           {
            "aaxis": {
             "endlinecolor": "#2a3f5f",
             "gridcolor": "white",
             "linecolor": "white",
             "minorgridcolor": "white",
             "startlinecolor": "#2a3f5f"
            },
            "baxis": {
             "endlinecolor": "#2a3f5f",
             "gridcolor": "white",
             "linecolor": "white",
             "minorgridcolor": "white",
             "startlinecolor": "#2a3f5f"
            },
            "type": "carpet"
           }
          ],
          "choropleth": [
           {
            "colorbar": {
             "outlinewidth": 0,
             "ticks": ""
            },
            "type": "choropleth"
           }
          ],
          "contour": [
           {
            "colorbar": {
             "outlinewidth": 0,
             "ticks": ""
            },
            "colorscale": [
             [
              0,
              "#0d0887"
             ],
             [
              0.1111111111111111,
              "#46039f"
             ],
             [
              0.2222222222222222,
              "#7201a8"
             ],
             [
              0.3333333333333333,
              "#9c179e"
             ],
             [
              0.4444444444444444,
              "#bd3786"
             ],
             [
              0.5555555555555556,
              "#d8576b"
             ],
             [
              0.6666666666666666,
              "#ed7953"
             ],
             [
              0.7777777777777778,
              "#fb9f3a"
             ],
             [
              0.8888888888888888,
              "#fdca26"
             ],
             [
              1,
              "#f0f921"
             ]
            ],
            "type": "contour"
           }
          ],
          "contourcarpet": [
           {
            "colorbar": {
             "outlinewidth": 0,
             "ticks": ""
            },
            "type": "contourcarpet"
           }
          ],
          "heatmap": [
           {
            "colorbar": {
             "outlinewidth": 0,
             "ticks": ""
            },
            "colorscale": [
             [
              0,
              "#0d0887"
             ],
             [
              0.1111111111111111,
              "#46039f"
             ],
             [
              0.2222222222222222,
              "#7201a8"
             ],
             [
              0.3333333333333333,
              "#9c179e"
             ],
             [
              0.4444444444444444,
              "#bd3786"
             ],
             [
              0.5555555555555556,
              "#d8576b"
             ],
             [
              0.6666666666666666,
              "#ed7953"
             ],
             [
              0.7777777777777778,
              "#fb9f3a"
             ],
             [
              0.8888888888888888,
              "#fdca26"
             ],
             [
              1,
              "#f0f921"
             ]
            ],
            "type": "heatmap"
           }
          ],
          "heatmapgl": [
           {
            "colorbar": {
             "outlinewidth": 0,
             "ticks": ""
            },
            "colorscale": [
             [
              0,
              "#0d0887"
             ],
             [
              0.1111111111111111,
              "#46039f"
             ],
             [
              0.2222222222222222,
              "#7201a8"
             ],
             [
              0.3333333333333333,
              "#9c179e"
             ],
             [
              0.4444444444444444,
              "#bd3786"
             ],
             [
              0.5555555555555556,
              "#d8576b"
             ],
             [
              0.6666666666666666,
              "#ed7953"
             ],
             [
              0.7777777777777778,
              "#fb9f3a"
             ],
             [
              0.8888888888888888,
              "#fdca26"
             ],
             [
              1,
              "#f0f921"
             ]
            ],
            "type": "heatmapgl"
           }
          ],
          "histogram": [
           {
            "marker": {
             "colorbar": {
              "outlinewidth": 0,
              "ticks": ""
             }
            },
            "type": "histogram"
           }
          ],
          "histogram2d": [
           {
            "colorbar": {
             "outlinewidth": 0,
             "ticks": ""
            },
            "colorscale": [
             [
              0,
              "#0d0887"
             ],
             [
              0.1111111111111111,
              "#46039f"
             ],
             [
              0.2222222222222222,
              "#7201a8"
             ],
             [
              0.3333333333333333,
              "#9c179e"
             ],
             [
              0.4444444444444444,
              "#bd3786"
             ],
             [
              0.5555555555555556,
              "#d8576b"
             ],
             [
              0.6666666666666666,
              "#ed7953"
             ],
             [
              0.7777777777777778,
              "#fb9f3a"
             ],
             [
              0.8888888888888888,
              "#fdca26"
             ],
             [
              1,
              "#f0f921"
             ]
            ],
            "type": "histogram2d"
           }
          ],
          "histogram2dcontour": [
           {
            "colorbar": {
             "outlinewidth": 0,
             "ticks": ""
            },
            "colorscale": [
             [
              0,
              "#0d0887"
             ],
             [
              0.1111111111111111,
              "#46039f"
             ],
             [
              0.2222222222222222,
              "#7201a8"
             ],
             [
              0.3333333333333333,
              "#9c179e"
             ],
             [
              0.4444444444444444,
              "#bd3786"
             ],
             [
              0.5555555555555556,
              "#d8576b"
             ],
             [
              0.6666666666666666,
              "#ed7953"
             ],
             [
              0.7777777777777778,
              "#fb9f3a"
             ],
             [
              0.8888888888888888,
              "#fdca26"
             ],
             [
              1,
              "#f0f921"
             ]
            ],
            "type": "histogram2dcontour"
           }
          ],
          "mesh3d": [
           {
            "colorbar": {
             "outlinewidth": 0,
             "ticks": ""
            },
            "type": "mesh3d"
           }
          ],
          "parcoords": [
           {
            "line": {
             "colorbar": {
              "outlinewidth": 0,
              "ticks": ""
             }
            },
            "type": "parcoords"
           }
          ],
          "pie": [
           {
            "automargin": true,
            "type": "pie"
           }
          ],
          "scatter": [
           {
            "marker": {
             "colorbar": {
              "outlinewidth": 0,
              "ticks": ""
             }
            },
            "type": "scatter"
           }
          ],
          "scatter3d": [
           {
            "line": {
             "colorbar": {
              "outlinewidth": 0,
              "ticks": ""
             }
            },
            "marker": {
             "colorbar": {
              "outlinewidth": 0,
              "ticks": ""
             }
            },
            "type": "scatter3d"
           }
          ],
          "scattercarpet": [
           {
            "marker": {
             "colorbar": {
              "outlinewidth": 0,
              "ticks": ""
             }
            },
            "type": "scattercarpet"
           }
          ],
          "scattergeo": [
           {
            "marker": {
             "colorbar": {
              "outlinewidth": 0,
              "ticks": ""
             }
            },
            "type": "scattergeo"
           }
          ],
          "scattergl": [
           {
            "marker": {
             "colorbar": {
              "outlinewidth": 0,
              "ticks": ""
             }
            },
            "type": "scattergl"
           }
          ],
          "scattermapbox": [
           {
            "marker": {
             "colorbar": {
              "outlinewidth": 0,
              "ticks": ""
             }
            },
            "type": "scattermapbox"
           }
          ],
          "scatterpolar": [
           {
            "marker": {
             "colorbar": {
              "outlinewidth": 0,
              "ticks": ""
             }
            },
            "type": "scatterpolar"
           }
          ],
          "scatterpolargl": [
           {
            "marker": {
             "colorbar": {
              "outlinewidth": 0,
              "ticks": ""
             }
            },
            "type": "scatterpolargl"
           }
          ],
          "scatterternary": [
           {
            "marker": {
             "colorbar": {
              "outlinewidth": 0,
              "ticks": ""
             }
            },
            "type": "scatterternary"
           }
          ],
          "surface": [
           {
            "colorbar": {
             "outlinewidth": 0,
             "ticks": ""
            },
            "colorscale": [
             [
              0,
              "#0d0887"
             ],
             [
              0.1111111111111111,
              "#46039f"
             ],
             [
              0.2222222222222222,
              "#7201a8"
             ],
             [
              0.3333333333333333,
              "#9c179e"
             ],
             [
              0.4444444444444444,
              "#bd3786"
             ],
             [
              0.5555555555555556,
              "#d8576b"
             ],
             [
              0.6666666666666666,
              "#ed7953"
             ],
             [
              0.7777777777777778,
              "#fb9f3a"
             ],
             [
              0.8888888888888888,
              "#fdca26"
             ],
             [
              1,
              "#f0f921"
             ]
            ],
            "type": "surface"
           }
          ],
          "table": [
           {
            "cells": {
             "fill": {
              "color": "#EBF0F8"
             },
             "line": {
              "color": "white"
             }
            },
            "header": {
             "fill": {
              "color": "#C8D4E3"
             },
             "line": {
              "color": "white"
             }
            },
            "type": "table"
           }
          ]
         },
         "layout": {
          "annotationdefaults": {
           "arrowcolor": "#2a3f5f",
           "arrowhead": 0,
           "arrowwidth": 1
          },
          "coloraxis": {
           "colorbar": {
            "outlinewidth": 0,
            "ticks": ""
           }
          },
          "colorscale": {
           "diverging": [
            [
             0,
             "#8e0152"
            ],
            [
             0.1,
             "#c51b7d"
            ],
            [
             0.2,
             "#de77ae"
            ],
            [
             0.3,
             "#f1b6da"
            ],
            [
             0.4,
             "#fde0ef"
            ],
            [
             0.5,
             "#f7f7f7"
            ],
            [
             0.6,
             "#e6f5d0"
            ],
            [
             0.7,
             "#b8e186"
            ],
            [
             0.8,
             "#7fbc41"
            ],
            [
             0.9,
             "#4d9221"
            ],
            [
             1,
             "#276419"
            ]
           ],
           "sequential": [
            [
             0,
             "#0d0887"
            ],
            [
             0.1111111111111111,
             "#46039f"
            ],
            [
             0.2222222222222222,
             "#7201a8"
            ],
            [
             0.3333333333333333,
             "#9c179e"
            ],
            [
             0.4444444444444444,
             "#bd3786"
            ],
            [
             0.5555555555555556,
             "#d8576b"
            ],
            [
             0.6666666666666666,
             "#ed7953"
            ],
            [
             0.7777777777777778,
             "#fb9f3a"
            ],
            [
             0.8888888888888888,
             "#fdca26"
            ],
            [
             1,
             "#f0f921"
            ]
           ],
           "sequentialminus": [
            [
             0,
             "#0d0887"
            ],
            [
             0.1111111111111111,
             "#46039f"
            ],
            [
             0.2222222222222222,
             "#7201a8"
            ],
            [
             0.3333333333333333,
             "#9c179e"
            ],
            [
             0.4444444444444444,
             "#bd3786"
            ],
            [
             0.5555555555555556,
             "#d8576b"
            ],
            [
             0.6666666666666666,
             "#ed7953"
            ],
            [
             0.7777777777777778,
             "#fb9f3a"
            ],
            [
             0.8888888888888888,
             "#fdca26"
            ],
            [
             1,
             "#f0f921"
            ]
           ]
          },
          "colorway": [
           "#636efa",
           "#EF553B",
           "#00cc96",
           "#ab63fa",
           "#FFA15A",
           "#19d3f3",
           "#FF6692",
           "#B6E880",
           "#FF97FF",
           "#FECB52"
          ],
          "font": {
           "color": "#2a3f5f"
          },
          "geo": {
           "bgcolor": "white",
           "lakecolor": "white",
           "landcolor": "#E5ECF6",
           "showlakes": true,
           "showland": true,
           "subunitcolor": "white"
          },
          "hoverlabel": {
           "align": "left"
          },
          "hovermode": "closest",
          "mapbox": {
           "style": "light"
          },
          "paper_bgcolor": "white",
          "plot_bgcolor": "#E5ECF6",
          "polar": {
           "angularaxis": {
            "gridcolor": "white",
            "linecolor": "white",
            "ticks": ""
           },
           "bgcolor": "#E5ECF6",
           "radialaxis": {
            "gridcolor": "white",
            "linecolor": "white",
            "ticks": ""
           }
          },
          "scene": {
           "xaxis": {
            "backgroundcolor": "#E5ECF6",
            "gridcolor": "white",
            "gridwidth": 2,
            "linecolor": "white",
            "showbackground": true,
            "ticks": "",
            "zerolinecolor": "white"
           },
           "yaxis": {
            "backgroundcolor": "#E5ECF6",
            "gridcolor": "white",
            "gridwidth": 2,
            "linecolor": "white",
            "showbackground": true,
            "ticks": "",
            "zerolinecolor": "white"
           },
           "zaxis": {
            "backgroundcolor": "#E5ECF6",
            "gridcolor": "white",
            "gridwidth": 2,
            "linecolor": "white",
            "showbackground": true,
            "ticks": "",
            "zerolinecolor": "white"
           }
          },
          "shapedefaults": {
           "line": {
            "color": "#2a3f5f"
           }
          },
          "ternary": {
           "aaxis": {
            "gridcolor": "white",
            "linecolor": "white",
            "ticks": ""
           },
           "baxis": {
            "gridcolor": "white",
            "linecolor": "white",
            "ticks": ""
           },
           "bgcolor": "#E5ECF6",
           "caxis": {
            "gridcolor": "white",
            "linecolor": "white",
            "ticks": ""
           }
          },
          "title": {
           "x": 0.05
          },
          "xaxis": {
           "automargin": true,
           "gridcolor": "white",
           "linecolor": "white",
           "ticks": "",
           "title": {
            "standoff": 15
           },
           "zerolinecolor": "white",
           "zerolinewidth": 2
          },
          "yaxis": {
           "automargin": true,
           "gridcolor": "white",
           "linecolor": "white",
           "ticks": "",
           "title": {
            "standoff": 15
           },
           "zerolinecolor": "white",
           "zerolinewidth": 2
          }
         }
        },
        "xaxis": {
         "anchor": "y",
         "domain": [
          0,
          1
         ],
         "title": {
          "text": "n_tweets"
         }
        },
        "yaxis": {
         "anchor": "x",
         "domain": [
          0,
          1
         ],
         "title": {
          "text": "Posbank"
         }
        }
       }
      }
     },
     "metadata": {}
    }
   ],
   "source": [
    "# Is there any relation between tweets and visitors on the posbank?\n",
    "px.scatter(weather_visitors, x='n_tweets', y='Posbank', trendline='ols')"
   ]
  },
  {
   "cell_type": "code",
   "execution_count": 296,
   "metadata": {},
   "outputs": [
    {
     "output_type": "display_data",
     "data": {
      "application/vnd.plotly.v1+json": {
       "config": {
        "plotlyServerURL": "https://plot.ly"
       },
       "data": [
        {
         "hoverlabel": {
          "namelength": 0
         },
         "hovertemplate": "Weekday Name=Thursday<br>Netherlands, Gelderland, Rheden tempMax=%{x}<br>Lappendeken=%{y}",
         "legendgroup": "Weekday Name=Thursday",
         "marker": {
          "color": "#636efa",
          "symbol": "circle"
         },
         "mode": "markers",
         "name": "Weekday Name=Thursday",
         "showlegend": true,
         "type": "scatter",
         "x": [
          21,
          15,
          19,
          12,
          25,
          18,
          14,
          20
         ],
         "xaxis": "x",
         "y": [
          81,
          74,
          52,
          48,
          137,
          45,
          66,
          47
         ],
         "yaxis": "y"
        },
        {
         "alignmentgroup": "True",
         "hoverlabel": {
          "namelength": 0
         },
         "hovertemplate": "Weekday Name=Thursday<br>Lappendeken=%{y}",
         "legendgroup": "Weekday Name=Thursday",
         "marker": {
          "color": "#636efa",
          "symbol": "circle"
         },
         "name": "Weekday Name=Thursday",
         "notched": true,
         "offsetgroup": "Weekday Name=Thursday",
         "showlegend": false,
         "type": "box",
         "xaxis": "x2",
         "y": [
          81,
          74,
          52,
          48,
          137,
          45,
          66,
          47
         ],
         "yaxis": "y2"
        },
        {
         "hoverlabel": {
          "namelength": 0
         },
         "hovertemplate": "Weekday Name=Friday<br>Netherlands, Gelderland, Rheden tempMax=%{x}<br>Lappendeken=%{y}",
         "legendgroup": "Weekday Name=Friday",
         "marker": {
          "color": "#EF553B",
          "symbol": "circle"
         },
         "mode": "markers",
         "name": "Weekday Name=Friday",
         "showlegend": true,
         "type": "scatter",
         "x": [
          18,
          13,
          21,
          13,
          21,
          20,
          13,
          25
         ],
         "xaxis": "x",
         "y": [
          88,
          66,
          90,
          36,
          70,
          59,
          15,
          57
         ],
         "yaxis": "y"
        },
        {
         "alignmentgroup": "True",
         "hoverlabel": {
          "namelength": 0
         },
         "hovertemplate": "Weekday Name=Friday<br>Lappendeken=%{y}",
         "legendgroup": "Weekday Name=Friday",
         "marker": {
          "color": "#EF553B",
          "symbol": "circle"
         },
         "name": "Weekday Name=Friday",
         "notched": true,
         "offsetgroup": "Weekday Name=Friday",
         "showlegend": false,
         "type": "box",
         "xaxis": "x2",
         "y": [
          88,
          66,
          90,
          36,
          70,
          59,
          15,
          57
         ],
         "yaxis": "y2"
        },
        {
         "hoverlabel": {
          "namelength": 0
         },
         "hovertemplate": "Weekday Name=Saturday<br>Netherlands, Gelderland, Rheden tempMax=%{x}<br>Lappendeken=%{y}",
         "legendgroup": "Weekday Name=Saturday",
         "marker": {
          "color": "#00cc96",
          "symbol": "circle"
         },
         "mode": "markers",
         "name": "Weekday Name=Saturday",
         "showlegend": true,
         "type": "scatter",
         "x": [
          16,
          14,
          22,
          14,
          17,
          21,
          15,
          27
         ],
         "xaxis": "x",
         "y": [
          127,
          91,
          124,
          130,
          103,
          89,
          91,
          77
         ],
         "yaxis": "y"
        },
        {
         "alignmentgroup": "True",
         "hoverlabel": {
          "namelength": 0
         },
         "hovertemplate": "Weekday Name=Saturday<br>Lappendeken=%{y}",
         "legendgroup": "Weekday Name=Saturday",
         "marker": {
          "color": "#00cc96",
          "symbol": "circle"
         },
         "name": "Weekday Name=Saturday",
         "notched": true,
         "offsetgroup": "Weekday Name=Saturday",
         "showlegend": false,
         "type": "box",
         "xaxis": "x2",
         "y": [
          127,
          91,
          124,
          130,
          103,
          89,
          91,
          77
         ],
         "yaxis": "y2"
        },
        {
         "hoverlabel": {
          "namelength": 0
         },
         "hovertemplate": "Weekday Name=Sunday<br>Netherlands, Gelderland, Rheden tempMax=%{x}<br>Lappendeken=%{y}",
         "legendgroup": "Weekday Name=Sunday",
         "marker": {
          "color": "#ab63fa",
          "symbol": "circle"
         },
         "mode": "markers",
         "name": "Weekday Name=Sunday",
         "showlegend": true,
         "type": "scatter",
         "x": [
          17,
          16,
          17,
          20,
          14,
          19,
          18
         ],
         "xaxis": "x",
         "y": [
          131,
          164,
          118,
          162,
          87,
          142,
          163
         ],
         "yaxis": "y"
        },
        {
         "alignmentgroup": "True",
         "hoverlabel": {
          "namelength": 0
         },
         "hovertemplate": "Weekday Name=Sunday<br>Lappendeken=%{y}",
         "legendgroup": "Weekday Name=Sunday",
         "marker": {
          "color": "#ab63fa",
          "symbol": "circle"
         },
         "name": "Weekday Name=Sunday",
         "notched": true,
         "offsetgroup": "Weekday Name=Sunday",
         "showlegend": false,
         "type": "box",
         "xaxis": "x2",
         "y": [
          131,
          164,
          118,
          162,
          87,
          142,
          163
         ],
         "yaxis": "y2"
        },
        {
         "hoverlabel": {
          "namelength": 0
         },
         "hovertemplate": "Weekday Name=Monday<br>Netherlands, Gelderland, Rheden tempMax=%{x}<br>Lappendeken=%{y}",
         "legendgroup": "Weekday Name=Monday",
         "marker": {
          "color": "#FFA15A",
          "symbol": "circle"
         },
         "mode": "markers",
         "name": "Weekday Name=Monday",
         "showlegend": true,
         "type": "scatter",
         "x": [
          19,
          15,
          11,
          20,
          19,
          22,
          17
         ],
         "xaxis": "x",
         "y": [
          66,
          76,
          38,
          33,
          47,
          120,
          38
         ],
         "yaxis": "y"
        },
        {
         "alignmentgroup": "True",
         "hoverlabel": {
          "namelength": 0
         },
         "hovertemplate": "Weekday Name=Monday<br>Lappendeken=%{y}",
         "legendgroup": "Weekday Name=Monday",
         "marker": {
          "color": "#FFA15A",
          "symbol": "circle"
         },
         "name": "Weekday Name=Monday",
         "notched": true,
         "offsetgroup": "Weekday Name=Monday",
         "showlegend": false,
         "type": "box",
         "xaxis": "x2",
         "y": [
          66,
          76,
          38,
          33,
          47,
          120,
          38
         ],
         "yaxis": "y2"
        },
        {
         "hoverlabel": {
          "namelength": 0
         },
         "hovertemplate": "Weekday Name=Tuesday<br>Netherlands, Gelderland, Rheden tempMax=%{x}<br>Lappendeken=%{y}",
         "legendgroup": "Weekday Name=Tuesday",
         "marker": {
          "color": "#19d3f3",
          "symbol": "circle"
         },
         "mode": "markers",
         "name": "Weekday Name=Tuesday",
         "showlegend": true,
         "type": "scatter",
         "x": [
          11,
          14,
          11,
          20,
          21,
          26,
          17
         ],
         "xaxis": "x",
         "y": [
          34,
          130,
          57,
          30,
          34,
          31,
          51
         ],
         "yaxis": "y"
        },
        {
         "alignmentgroup": "True",
         "hoverlabel": {
          "namelength": 0
         },
         "hovertemplate": "Weekday Name=Tuesday<br>Lappendeken=%{y}",
         "legendgroup": "Weekday Name=Tuesday",
         "marker": {
          "color": "#19d3f3",
          "symbol": "circle"
         },
         "name": "Weekday Name=Tuesday",
         "notched": true,
         "offsetgroup": "Weekday Name=Tuesday",
         "showlegend": false,
         "type": "box",
         "xaxis": "x2",
         "y": [
          34,
          130,
          57,
          30,
          34,
          31,
          51
         ],
         "yaxis": "y2"
        },
        {
         "hoverlabel": {
          "namelength": 0
         },
         "hovertemplate": "Weekday Name=Wednesday<br>Netherlands, Gelderland, Rheden tempMax=%{x}<br>Lappendeken=%{y}",
         "legendgroup": "Weekday Name=Wednesday",
         "marker": {
          "color": "#FF6692",
          "symbol": "circle"
         },
         "mode": "markers",
         "name": "Weekday Name=Wednesday",
         "showlegend": true,
         "type": "scatter",
         "x": [
          15,
          17,
          12,
          20,
          20,
          22,
          17
         ],
         "xaxis": "x",
         "y": [
          78,
          63,
          48,
          38,
          48,
          38,
          32
         ],
         "yaxis": "y"
        },
        {
         "alignmentgroup": "True",
         "hoverlabel": {
          "namelength": 0
         },
         "hovertemplate": "Weekday Name=Wednesday<br>Lappendeken=%{y}",
         "legendgroup": "Weekday Name=Wednesday",
         "marker": {
          "color": "#FF6692",
          "symbol": "circle"
         },
         "name": "Weekday Name=Wednesday",
         "notched": true,
         "offsetgroup": "Weekday Name=Wednesday",
         "showlegend": false,
         "type": "box",
         "xaxis": "x2",
         "y": [
          78,
          63,
          48,
          38,
          48,
          38,
          32
         ],
         "yaxis": "y2"
        }
       ],
       "layout": {
        "height": 400,
        "legend": {
         "tracegroupgap": 0
        },
        "margin": {
         "t": 60
        },
        "template": {
         "data": {
          "bar": [
           {
            "error_x": {
             "color": "#2a3f5f"
            },
            "error_y": {
             "color": "#2a3f5f"
            },
            "marker": {
             "line": {
              "color": "#E5ECF6",
              "width": 0.5
             }
            },
            "type": "bar"
           }
          ],
          "barpolar": [
           {
            "marker": {
             "line": {
              "color": "#E5ECF6",
              "width": 0.5
             }
            },
            "type": "barpolar"
           }
          ],
          "carpet": [
           {
            "aaxis": {
             "endlinecolor": "#2a3f5f",
             "gridcolor": "white",
             "linecolor": "white",
             "minorgridcolor": "white",
             "startlinecolor": "#2a3f5f"
            },
            "baxis": {
             "endlinecolor": "#2a3f5f",
             "gridcolor": "white",
             "linecolor": "white",
             "minorgridcolor": "white",
             "startlinecolor": "#2a3f5f"
            },
            "type": "carpet"
           }
          ],
          "choropleth": [
           {
            "colorbar": {
             "outlinewidth": 0,
             "ticks": ""
            },
            "type": "choropleth"
           }
          ],
          "contour": [
           {
            "colorbar": {
             "outlinewidth": 0,
             "ticks": ""
            },
            "colorscale": [
             [
              0,
              "#0d0887"
             ],
             [
              0.1111111111111111,
              "#46039f"
             ],
             [
              0.2222222222222222,
              "#7201a8"
             ],
             [
              0.3333333333333333,
              "#9c179e"
             ],
             [
              0.4444444444444444,
              "#bd3786"
             ],
             [
              0.5555555555555556,
              "#d8576b"
             ],
             [
              0.6666666666666666,
              "#ed7953"
             ],
             [
              0.7777777777777778,
              "#fb9f3a"
             ],
             [
              0.8888888888888888,
              "#fdca26"
             ],
             [
              1,
              "#f0f921"
             ]
            ],
            "type": "contour"
           }
          ],
          "contourcarpet": [
           {
            "colorbar": {
             "outlinewidth": 0,
             "ticks": ""
            },
            "type": "contourcarpet"
           }
          ],
          "heatmap": [
           {
            "colorbar": {
             "outlinewidth": 0,
             "ticks": ""
            },
            "colorscale": [
             [
              0,
              "#0d0887"
             ],
             [
              0.1111111111111111,
              "#46039f"
             ],
             [
              0.2222222222222222,
              "#7201a8"
             ],
             [
              0.3333333333333333,
              "#9c179e"
             ],
             [
              0.4444444444444444,
              "#bd3786"
             ],
             [
              0.5555555555555556,
              "#d8576b"
             ],
             [
              0.6666666666666666,
              "#ed7953"
             ],
             [
              0.7777777777777778,
              "#fb9f3a"
             ],
             [
              0.8888888888888888,
              "#fdca26"
             ],
             [
              1,
              "#f0f921"
             ]
            ],
            "type": "heatmap"
           }
          ],
          "heatmapgl": [
           {
            "colorbar": {
             "outlinewidth": 0,
             "ticks": ""
            },
            "colorscale": [
             [
              0,
              "#0d0887"
             ],
             [
              0.1111111111111111,
              "#46039f"
             ],
             [
              0.2222222222222222,
              "#7201a8"
             ],
             [
              0.3333333333333333,
              "#9c179e"
             ],
             [
              0.4444444444444444,
              "#bd3786"
             ],
             [
              0.5555555555555556,
              "#d8576b"
             ],
             [
              0.6666666666666666,
              "#ed7953"
             ],
             [
              0.7777777777777778,
              "#fb9f3a"
             ],
             [
              0.8888888888888888,
              "#fdca26"
             ],
             [
              1,
              "#f0f921"
             ]
            ],
            "type": "heatmapgl"
           }
          ],
          "histogram": [
           {
            "marker": {
             "colorbar": {
              "outlinewidth": 0,
              "ticks": ""
             }
            },
            "type": "histogram"
           }
          ],
          "histogram2d": [
           {
            "colorbar": {
             "outlinewidth": 0,
             "ticks": ""
            },
            "colorscale": [
             [
              0,
              "#0d0887"
             ],
             [
              0.1111111111111111,
              "#46039f"
             ],
             [
              0.2222222222222222,
              "#7201a8"
             ],
             [
              0.3333333333333333,
              "#9c179e"
             ],
             [
              0.4444444444444444,
              "#bd3786"
             ],
             [
              0.5555555555555556,
              "#d8576b"
             ],
             [
              0.6666666666666666,
              "#ed7953"
             ],
             [
              0.7777777777777778,
              "#fb9f3a"
             ],
             [
              0.8888888888888888,
              "#fdca26"
             ],
             [
              1,
              "#f0f921"
             ]
            ],
            "type": "histogram2d"
           }
          ],
          "histogram2dcontour": [
           {
            "colorbar": {
             "outlinewidth": 0,
             "ticks": ""
            },
            "colorscale": [
             [
              0,
              "#0d0887"
             ],
             [
              0.1111111111111111,
              "#46039f"
             ],
             [
              0.2222222222222222,
              "#7201a8"
             ],
             [
              0.3333333333333333,
              "#9c179e"
             ],
             [
              0.4444444444444444,
              "#bd3786"
             ],
             [
              0.5555555555555556,
              "#d8576b"
             ],
             [
              0.6666666666666666,
              "#ed7953"
             ],
             [
              0.7777777777777778,
              "#fb9f3a"
             ],
             [
              0.8888888888888888,
              "#fdca26"
             ],
             [
              1,
              "#f0f921"
             ]
            ],
            "type": "histogram2dcontour"
           }
          ],
          "mesh3d": [
           {
            "colorbar": {
             "outlinewidth": 0,
             "ticks": ""
            },
            "type": "mesh3d"
           }
          ],
          "parcoords": [
           {
            "line": {
             "colorbar": {
              "outlinewidth": 0,
              "ticks": ""
             }
            },
            "type": "parcoords"
           }
          ],
          "pie": [
           {
            "automargin": true,
            "type": "pie"
           }
          ],
          "scatter": [
           {
            "marker": {
             "colorbar": {
              "outlinewidth": 0,
              "ticks": ""
             }
            },
            "type": "scatter"
           }
          ],
          "scatter3d": [
           {
            "line": {
             "colorbar": {
              "outlinewidth": 0,
              "ticks": ""
             }
            },
            "marker": {
             "colorbar": {
              "outlinewidth": 0,
              "ticks": ""
             }
            },
            "type": "scatter3d"
           }
          ],
          "scattercarpet": [
           {
            "marker": {
             "colorbar": {
              "outlinewidth": 0,
              "ticks": ""
             }
            },
            "type": "scattercarpet"
           }
          ],
          "scattergeo": [
           {
            "marker": {
             "colorbar": {
              "outlinewidth": 0,
              "ticks": ""
             }
            },
            "type": "scattergeo"
           }
          ],
          "scattergl": [
           {
            "marker": {
             "colorbar": {
              "outlinewidth": 0,
              "ticks": ""
             }
            },
            "type": "scattergl"
           }
          ],
          "scattermapbox": [
           {
            "marker": {
             "colorbar": {
              "outlinewidth": 0,
              "ticks": ""
             }
            },
            "type": "scattermapbox"
           }
          ],
          "scatterpolar": [
           {
            "marker": {
             "colorbar": {
              "outlinewidth": 0,
              "ticks": ""
             }
            },
            "type": "scatterpolar"
           }
          ],
          "scatterpolargl": [
           {
            "marker": {
             "colorbar": {
              "outlinewidth": 0,
              "ticks": ""
             }
            },
            "type": "scatterpolargl"
           }
          ],
          "scatterternary": [
           {
            "marker": {
             "colorbar": {
              "outlinewidth": 0,
              "ticks": ""
             }
            },
            "type": "scatterternary"
           }
          ],
          "surface": [
           {
            "colorbar": {
             "outlinewidth": 0,
             "ticks": ""
            },
            "colorscale": [
             [
              0,
              "#0d0887"
             ],
             [
              0.1111111111111111,
              "#46039f"
             ],
             [
              0.2222222222222222,
              "#7201a8"
             ],
             [
              0.3333333333333333,
              "#9c179e"
             ],
             [
              0.4444444444444444,
              "#bd3786"
             ],
             [
              0.5555555555555556,
              "#d8576b"
             ],
             [
              0.6666666666666666,
              "#ed7953"
             ],
             [
              0.7777777777777778,
              "#fb9f3a"
             ],
             [
              0.8888888888888888,
              "#fdca26"
             ],
             [
              1,
              "#f0f921"
             ]
            ],
            "type": "surface"
           }
          ],
          "table": [
           {
            "cells": {
             "fill": {
              "color": "#EBF0F8"
             },
             "line": {
              "color": "white"
             }
            },
            "header": {
             "fill": {
              "color": "#C8D4E3"
             },
             "line": {
              "color": "white"
             }
            },
            "type": "table"
           }
          ]
         },
         "layout": {
          "annotationdefaults": {
           "arrowcolor": "#2a3f5f",
           "arrowhead": 0,
           "arrowwidth": 1
          },
          "coloraxis": {
           "colorbar": {
            "outlinewidth": 0,
            "ticks": ""
           }
          },
          "colorscale": {
           "diverging": [
            [
             0,
             "#8e0152"
            ],
            [
             0.1,
             "#c51b7d"
            ],
            [
             0.2,
             "#de77ae"
            ],
            [
             0.3,
             "#f1b6da"
            ],
            [
             0.4,
             "#fde0ef"
            ],
            [
             0.5,
             "#f7f7f7"
            ],
            [
             0.6,
             "#e6f5d0"
            ],
            [
             0.7,
             "#b8e186"
            ],
            [
             0.8,
             "#7fbc41"
            ],
            [
             0.9,
             "#4d9221"
            ],
            [
             1,
             "#276419"
            ]
           ],
           "sequential": [
            [
             0,
             "#0d0887"
            ],
            [
             0.1111111111111111,
             "#46039f"
            ],
            [
             0.2222222222222222,
             "#7201a8"
            ],
            [
             0.3333333333333333,
             "#9c179e"
            ],
            [
             0.4444444444444444,
             "#bd3786"
            ],
            [
             0.5555555555555556,
             "#d8576b"
            ],
            [
             0.6666666666666666,
             "#ed7953"
            ],
            [
             0.7777777777777778,
             "#fb9f3a"
            ],
            [
             0.8888888888888888,
             "#fdca26"
            ],
            [
             1,
             "#f0f921"
            ]
           ],
           "sequentialminus": [
            [
             0,
             "#0d0887"
            ],
            [
             0.1111111111111111,
             "#46039f"
            ],
            [
             0.2222222222222222,
             "#7201a8"
            ],
            [
             0.3333333333333333,
             "#9c179e"
            ],
            [
             0.4444444444444444,
             "#bd3786"
            ],
            [
             0.5555555555555556,
             "#d8576b"
            ],
            [
             0.6666666666666666,
             "#ed7953"
            ],
            [
             0.7777777777777778,
             "#fb9f3a"
            ],
            [
             0.8888888888888888,
             "#fdca26"
            ],
            [
             1,
             "#f0f921"
            ]
           ]
          },
          "colorway": [
           "#636efa",
           "#EF553B",
           "#00cc96",
           "#ab63fa",
           "#FFA15A",
           "#19d3f3",
           "#FF6692",
           "#B6E880",
           "#FF97FF",
           "#FECB52"
          ],
          "font": {
           "color": "#2a3f5f"
          },
          "geo": {
           "bgcolor": "white",
           "lakecolor": "white",
           "landcolor": "#E5ECF6",
           "showlakes": true,
           "showland": true,
           "subunitcolor": "white"
          },
          "hoverlabel": {
           "align": "left"
          },
          "hovermode": "closest",
          "mapbox": {
           "style": "light"
          },
          "paper_bgcolor": "white",
          "plot_bgcolor": "#E5ECF6",
          "polar": {
           "angularaxis": {
            "gridcolor": "white",
            "linecolor": "white",
            "ticks": ""
           },
           "bgcolor": "#E5ECF6",
           "radialaxis": {
            "gridcolor": "white",
            "linecolor": "white",
            "ticks": ""
           }
          },
          "scene": {
           "xaxis": {
            "backgroundcolor": "#E5ECF6",
            "gridcolor": "white",
            "gridwidth": 2,
            "linecolor": "white",
            "showbackground": true,
            "ticks": "",
            "zerolinecolor": "white"
           },
           "yaxis": {
            "backgroundcolor": "#E5ECF6",
            "gridcolor": "white",
            "gridwidth": 2,
            "linecolor": "white",
            "showbackground": true,
            "ticks": "",
            "zerolinecolor": "white"
           },
           "zaxis": {
            "backgroundcolor": "#E5ECF6",
            "gridcolor": "white",
            "gridwidth": 2,
            "linecolor": "white",
            "showbackground": true,
            "ticks": "",
            "zerolinecolor": "white"
           }
          },
          "shapedefaults": {
           "line": {
            "color": "#2a3f5f"
           }
          },
          "ternary": {
           "aaxis": {
            "gridcolor": "white",
            "linecolor": "white",
            "ticks": ""
           },
           "baxis": {
            "gridcolor": "white",
            "linecolor": "white",
            "ticks": ""
           },
           "bgcolor": "#E5ECF6",
           "caxis": {
            "gridcolor": "white",
            "linecolor": "white",
            "ticks": ""
           }
          },
          "title": {
           "x": 0.05
          },
          "xaxis": {
           "automargin": true,
           "gridcolor": "white",
           "linecolor": "white",
           "ticks": "",
           "title": {
            "standoff": 15
           },
           "zerolinecolor": "white",
           "zerolinewidth": 2
          },
          "yaxis": {
           "automargin": true,
           "gridcolor": "white",
           "linecolor": "white",
           "ticks": "",
           "title": {
            "standoff": 15
           },
           "zerolinecolor": "white",
           "zerolinewidth": 2
          }
         }
        },
        "width": 800,
        "xaxis": {
         "anchor": "y",
         "domain": [
          0,
          0.7363
         ],
         "title": {
          "text": "Netherlands, Gelderland, Rheden tempMax"
         }
        },
        "xaxis2": {
         "anchor": "y2",
         "domain": [
          0.7413,
          1
         ],
         "matches": "x2",
         "showgrid": false,
         "showline": false,
         "showticklabels": false,
         "ticks": ""
        },
        "yaxis": {
         "anchor": "x",
         "domain": [
          0,
          1
         ],
         "title": {
          "text": "Lappendeken"
         }
        },
        "yaxis2": {
         "anchor": "x2",
         "domain": [
          0,
          1
         ],
         "matches": "y",
         "showgrid": true,
         "showticklabels": false
        }
       }
      }
     },
     "metadata": {}
    }
   ],
   "source": [
    "px.scatter(weather_visitors, x='Netherlands, Gelderland, Rheden tempMax', y='Lappendeken', marginal_y = 'box', color='Weekday Name',\n",
    "                 width=800, height=400)"
   ]
  },
  {
   "cell_type": "code",
   "execution_count": 301,
   "metadata": {},
   "outputs": [
    {
     "output_type": "display_data",
     "data": {
      "application/vnd.plotly.v1+json": {
       "config": {
        "plotlyServerURL": "https://plot.ly"
       },
       "data": [
        {
         "hoverlabel": {
          "namelength": 0
         },
         "hovertemplate": "Weekday Name=Thursday<br>Netherlands, Gelderland, Rheden tempMax=%{x}<br>De Elsberg 1=%{y}",
         "legendgroup": "Weekday Name=Thursday",
         "marker": {
          "color": "#636efa",
          "symbol": "circle"
         },
         "mode": "markers",
         "name": "Weekday Name=Thursday",
         "showlegend": true,
         "type": "scatter",
         "x": [
          21,
          15,
          19,
          12,
          25,
          18,
          14,
          20
         ],
         "xaxis": "x",
         "y": [
          12,
          19,
          25,
          40,
          48,
          19,
          10,
          0
         ],
         "yaxis": "y"
        },
        {
         "alignmentgroup": "True",
         "hoverlabel": {
          "namelength": 0
         },
         "hovertemplate": "Weekday Name=Thursday<br>De Elsberg 1=%{y}",
         "legendgroup": "Weekday Name=Thursday",
         "marker": {
          "color": "#636efa",
          "symbol": "circle"
         },
         "name": "Weekday Name=Thursday",
         "notched": true,
         "offsetgroup": "Weekday Name=Thursday",
         "showlegend": false,
         "type": "box",
         "xaxis": "x2",
         "y": [
          12,
          19,
          25,
          40,
          48,
          19,
          10,
          0
         ],
         "yaxis": "y2"
        },
        {
         "hoverlabel": {
          "namelength": 0
         },
         "hovertemplate": "<b>OLS trendline</b><br>De Elsberg 1 = 0.483871 * Netherlands, Gelderland, Rheden tempMax + 12.915323<br>R<sup>2</sup>=0.016553<br><br>Weekday Name=Thursday<br>Netherlands, Gelderland, Rheden tempMax=%{x}<br>De Elsberg 1=%{y} <b>(trend)</b>",
         "legendgroup": "Weekday Name=Thursday",
         "marker": {
          "color": "#636efa",
          "symbol": "circle"
         },
         "mode": "lines",
         "name": "Weekday Name=Thursday",
         "showlegend": false,
         "type": "scatter",
         "x": [
          12,
          14,
          15,
          18,
          19,
          20,
          21,
          25
         ],
         "xaxis": "x",
         "y": [
          18.72177419354839,
          19.689516129032256,
          20.17338709677419,
          21.624999999999986,
          22.10887096774192,
          22.59274193548385,
          23.076612903225787,
          25.012096774193516
         ],
         "yaxis": "y"
        },
        {
         "hoverlabel": {
          "namelength": 0
         },
         "hovertemplate": "Weekday Name=Friday<br>Netherlands, Gelderland, Rheden tempMax=%{x}<br>De Elsberg 1=%{y}",
         "legendgroup": "Weekday Name=Friday",
         "marker": {
          "color": "#EF553B",
          "symbol": "circle"
         },
         "mode": "markers",
         "name": "Weekday Name=Friday",
         "showlegend": true,
         "type": "scatter",
         "x": [
          18,
          13,
          21,
          13,
          21,
          20,
          13,
          25
         ],
         "xaxis": "x",
         "y": [
          21,
          11,
          26,
          23,
          34,
          15,
          3,
          0
         ],
         "yaxis": "y"
        },
        {
         "alignmentgroup": "True",
         "hoverlabel": {
          "namelength": 0
         },
         "hovertemplate": "Weekday Name=Friday<br>De Elsberg 1=%{y}",
         "legendgroup": "Weekday Name=Friday",
         "marker": {
          "color": "#EF553B",
          "symbol": "circle"
         },
         "name": "Weekday Name=Friday",
         "notched": true,
         "offsetgroup": "Weekday Name=Friday",
         "showlegend": false,
         "type": "box",
         "xaxis": "x2",
         "y": [
          21,
          11,
          26,
          23,
          34,
          15,
          3,
          0
         ],
         "yaxis": "y2"
        },
        {
         "hoverlabel": {
          "namelength": 0
         },
         "hovertemplate": "<b>OLS trendline</b><br>De Elsberg 1 = 0.171233 * Netherlands, Gelderland, Rheden tempMax + 13.542808<br>R<sup>2</sup>=0.004526<br><br>Weekday Name=Friday<br>Netherlands, Gelderland, Rheden tempMax=%{x}<br>De Elsberg 1=%{y} <b>(trend)</b>",
         "legendgroup": "Weekday Name=Friday",
         "marker": {
          "color": "#EF553B",
          "symbol": "circle"
         },
         "mode": "lines",
         "name": "Weekday Name=Friday",
         "showlegend": false,
         "type": "scatter",
         "x": [
          13,
          13,
          13,
          18,
          20,
          21,
          21,
          25
         ],
         "xaxis": "x",
         "y": [
          15.768835616438352,
          15.768835616438352,
          15.768835616438352,
          16.624999999999996,
          16.967465753424655,
          17.138698630136986,
          17.138698630136986,
          17.8236301369863
         ],
         "yaxis": "y"
        },
        {
         "hoverlabel": {
          "namelength": 0
         },
         "hovertemplate": "Weekday Name=Saturday<br>Netherlands, Gelderland, Rheden tempMax=%{x}<br>De Elsberg 1=%{y}",
         "legendgroup": "Weekday Name=Saturday",
         "marker": {
          "color": "#00cc96",
          "symbol": "circle"
         },
         "mode": "markers",
         "name": "Weekday Name=Saturday",
         "showlegend": true,
         "type": "scatter",
         "x": [
          16,
          14,
          22,
          14,
          17,
          21,
          15,
          27
         ],
         "xaxis": "x",
         "y": [
          32,
          37,
          57,
          40,
          33,
          75,
          19,
          0
         ],
         "yaxis": "y"
        },
        {
         "alignmentgroup": "True",
         "hoverlabel": {
          "namelength": 0
         },
         "hovertemplate": "Weekday Name=Saturday<br>De Elsberg 1=%{y}",
         "legendgroup": "Weekday Name=Saturday",
         "marker": {
          "color": "#00cc96",
          "symbol": "circle"
         },
         "name": "Weekday Name=Saturday",
         "notched": true,
         "offsetgroup": "Weekday Name=Saturday",
         "showlegend": false,
         "type": "box",
         "xaxis": "x2",
         "y": [
          32,
          37,
          57,
          40,
          33,
          75,
          19,
          0
         ],
         "yaxis": "y2"
        },
        {
         "hoverlabel": {
          "namelength": 0
         },
         "hovertemplate": "<b>OLS trendline</b><br>De Elsberg 1 = -0.542904 * Netherlands, Gelderland, Rheden tempMax + 46.533003<br>R<sup>2</sup>=0.012453<br><br>Weekday Name=Saturday<br>Netherlands, Gelderland, Rheden tempMax=%{x}<br>De Elsberg 1=%{y} <b>(trend)</b>",
         "legendgroup": "Weekday Name=Saturday",
         "marker": {
          "color": "#00cc96",
          "symbol": "circle"
         },
         "mode": "lines",
         "name": "Weekday Name=Saturday",
         "showlegend": false,
         "type": "scatter",
         "x": [
          14,
          14,
          15,
          16,
          17,
          21,
          22,
          27
         ],
         "xaxis": "x",
         "y": [
          38.93234323432343,
          38.93234323432343,
          38.38943894389439,
          37.84653465346535,
          37.303630363036305,
          35.13201320132014,
          34.5891089108911,
          31.874587458745886
         ],
         "yaxis": "y"
        },
        {
         "hoverlabel": {
          "namelength": 0
         },
         "hovertemplate": "Weekday Name=Sunday<br>Netherlands, Gelderland, Rheden tempMax=%{x}<br>De Elsberg 1=%{y}",
         "legendgroup": "Weekday Name=Sunday",
         "marker": {
          "color": "#ab63fa",
          "symbol": "circle"
         },
         "mode": "markers",
         "name": "Weekday Name=Sunday",
         "showlegend": true,
         "type": "scatter",
         "x": [
          17,
          16,
          17,
          20,
          14,
          19,
          18
         ],
         "xaxis": "x",
         "y": [
          83,
          99,
          56,
          72,
          44,
          85,
          59
         ],
         "yaxis": "y"
        },
        {
         "alignmentgroup": "True",
         "hoverlabel": {
          "namelength": 0
         },
         "hovertemplate": "Weekday Name=Sunday<br>De Elsberg 1=%{y}",
         "legendgroup": "Weekday Name=Sunday",
         "marker": {
          "color": "#ab63fa",
          "symbol": "circle"
         },
         "name": "Weekday Name=Sunday",
         "notched": true,
         "offsetgroup": "Weekday Name=Sunday",
         "showlegend": false,
         "type": "box",
         "xaxis": "x2",
         "y": [
          83,
          99,
          56,
          72,
          44,
          85,
          59
         ],
         "yaxis": "y2"
        },
        {
         "hoverlabel": {
          "namelength": 0
         },
         "hovertemplate": "<b>OLS trendline</b><br>De Elsberg 1 = 3.060976 * Netherlands, Gelderland, Rheden tempMax + 18.231707<br>R<sup>2</sup>=0.098754<br><br>Weekday Name=Sunday<br>Netherlands, Gelderland, Rheden tempMax=%{x}<br>De Elsberg 1=%{y} <b>(trend)</b>",
         "legendgroup": "Weekday Name=Sunday",
         "marker": {
          "color": "#ab63fa",
          "symbol": "circle"
         },
         "mode": "lines",
         "name": "Weekday Name=Sunday",
         "showlegend": false,
         "type": "scatter",
         "x": [
          14,
          16,
          17,
          17,
          18,
          19,
          20
         ],
         "xaxis": "x",
         "y": [
          61.08536585365849,
          67.20731707317069,
          70.26829268292678,
          70.26829268292678,
          73.32926829268288,
          76.39024390243898,
          79.45121951219508
         ],
         "yaxis": "y"
        },
        {
         "hoverlabel": {
          "namelength": 0
         },
         "hovertemplate": "Weekday Name=Monday<br>Netherlands, Gelderland, Rheden tempMax=%{x}<br>De Elsberg 1=%{y}",
         "legendgroup": "Weekday Name=Monday",
         "marker": {
          "color": "#FFA15A",
          "symbol": "circle"
         },
         "mode": "markers",
         "name": "Weekday Name=Monday",
         "showlegend": true,
         "type": "scatter",
         "x": [
          19,
          15,
          11,
          20,
          19,
          22,
          17
         ],
         "xaxis": "x",
         "y": [
          41,
          21,
          14,
          52,
          24,
          61,
          0
         ],
         "yaxis": "y"
        },
        {
         "alignmentgroup": "True",
         "hoverlabel": {
          "namelength": 0
         },
         "hovertemplate": "Weekday Name=Monday<br>De Elsberg 1=%{y}",
         "legendgroup": "Weekday Name=Monday",
         "marker": {
          "color": "#FFA15A",
          "symbol": "circle"
         },
         "name": "Weekday Name=Monday",
         "notched": true,
         "offsetgroup": "Weekday Name=Monday",
         "showlegend": false,
         "type": "box",
         "xaxis": "x2",
         "y": [
          41,
          21,
          14,
          52,
          24,
          61,
          0
         ],
         "yaxis": "y2"
        },
        {
         "hoverlabel": {
          "namelength": 0
         },
         "hovertemplate": "<b>OLS trendline</b><br>De Elsberg 1 = 4.306452 * Netherlands, Gelderland, Rheden tempMax + -45.241935<br>R<sup>2</sup>=0.520963<br><br>Weekday Name=Monday<br>Netherlands, Gelderland, Rheden tempMax=%{x}<br>De Elsberg 1=%{y} <b>(trend)</b>",
         "legendgroup": "Weekday Name=Monday",
         "marker": {
          "color": "#FFA15A",
          "symbol": "circle"
         },
         "mode": "lines",
         "name": "Weekday Name=Monday",
         "showlegend": false,
         "type": "scatter",
         "x": [
          11,
          15,
          17,
          19,
          19,
          20,
          22
         ],
         "xaxis": "x",
         "y": [
          2.1290322580645125,
          19.354838709677402,
          27.967741935483865,
          36.5806451612903,
          36.5806451612903,
          40.88709677419353,
          49.49999999999998
         ],
         "yaxis": "y"
        },
        {
         "hoverlabel": {
          "namelength": 0
         },
         "hovertemplate": "Weekday Name=Tuesday<br>Netherlands, Gelderland, Rheden tempMax=%{x}<br>De Elsberg 1=%{y}",
         "legendgroup": "Weekday Name=Tuesday",
         "marker": {
          "color": "#19d3f3",
          "symbol": "circle"
         },
         "mode": "markers",
         "name": "Weekday Name=Tuesday",
         "showlegend": true,
         "type": "scatter",
         "x": [
          11,
          14,
          11,
          20,
          21,
          26,
          17
         ],
         "xaxis": "x",
         "y": [
          11,
          44,
          22,
          25,
          27,
          12,
          0
         ],
         "yaxis": "y"
        },
        {
         "alignmentgroup": "True",
         "hoverlabel": {
          "namelength": 0
         },
         "hovertemplate": "Weekday Name=Tuesday<br>De Elsberg 1=%{y}",
         "legendgroup": "Weekday Name=Tuesday",
         "marker": {
          "color": "#19d3f3",
          "symbol": "circle"
         },
         "name": "Weekday Name=Tuesday",
         "notched": true,
         "offsetgroup": "Weekday Name=Tuesday",
         "showlegend": false,
         "type": "box",
         "xaxis": "x2",
         "y": [
          11,
          44,
          22,
          25,
          27,
          12,
          0
         ],
         "yaxis": "y2"
        },
        {
         "hoverlabel": {
          "namelength": 0
         },
         "hovertemplate": "<b>OLS trendline</b><br>De Elsberg 1 = -0.316514 * Netherlands, Gelderland, Rheden tempMax + 25.568807<br>R<sup>2</sup>=0.015614<br><br>Weekday Name=Tuesday<br>Netherlands, Gelderland, Rheden tempMax=%{x}<br>De Elsberg 1=%{y} <b>(trend)</b>",
         "legendgroup": "Weekday Name=Tuesday",
         "marker": {
          "color": "#19d3f3",
          "symbol": "circle"
         },
         "mode": "lines",
         "name": "Weekday Name=Tuesday",
         "showlegend": false,
         "type": "scatter",
         "x": [
          11,
          11,
          14,
          17,
          20,
          21,
          26
         ],
         "xaxis": "x",
         "y": [
          22.087155963302752,
          22.087155963302752,
          21.137614678899084,
          20.188073394495415,
          19.238532110091747,
          18.92201834862386,
          17.33944954128441
         ],
         "yaxis": "y"
        },
        {
         "hoverlabel": {
          "namelength": 0
         },
         "hovertemplate": "Weekday Name=Wednesday<br>Netherlands, Gelderland, Rheden tempMax=%{x}<br>De Elsberg 1=%{y}",
         "legendgroup": "Weekday Name=Wednesday",
         "marker": {
          "color": "#FF6692",
          "symbol": "circle"
         },
         "mode": "markers",
         "name": "Weekday Name=Wednesday",
         "showlegend": true,
         "type": "scatter",
         "x": [
          15,
          17,
          12,
          20,
          20,
          22,
          17
         ],
         "xaxis": "x",
         "y": [
          40,
          38,
          63,
          27,
          34,
          56,
          0
         ],
         "yaxis": "y"
        },
        {
         "alignmentgroup": "True",
         "hoverlabel": {
          "namelength": 0
         },
         "hovertemplate": "Weekday Name=Wednesday<br>De Elsberg 1=%{y}",
         "legendgroup": "Weekday Name=Wednesday",
         "marker": {
          "color": "#FF6692",
          "symbol": "circle"
         },
         "name": "Weekday Name=Wednesday",
         "notched": true,
         "offsetgroup": "Weekday Name=Wednesday",
         "showlegend": false,
         "type": "box",
         "xaxis": "x2",
         "y": [
          40,
          38,
          63,
          27,
          34,
          56,
          0
         ],
         "yaxis": "y2"
        },
        {
         "hoverlabel": {
          "namelength": 0
         },
         "hovertemplate": "<b>OLS trendline</b><br>De Elsberg 1 = -1.139344 * Netherlands, Gelderland, Rheden tempMax + 56.877049<br>R<sup>2</sup>=0.035842<br><br>Weekday Name=Wednesday<br>Netherlands, Gelderland, Rheden tempMax=%{x}<br>De Elsberg 1=%{y} <b>(trend)</b>",
         "legendgroup": "Weekday Name=Wednesday",
         "marker": {
          "color": "#FF6692",
          "symbol": "circle"
         },
         "mode": "lines",
         "name": "Weekday Name=Wednesday",
         "showlegend": false,
         "type": "scatter",
         "x": [
          12,
          15,
          17,
          17,
          20,
          20,
          22
         ],
         "xaxis": "x",
         "y": [
          43.20491803278691,
          39.786885245901665,
          37.5081967213115,
          37.5081967213115,
          34.09016393442626,
          34.09016393442626,
          31.811475409836092
         ],
         "yaxis": "y"
        }
       ],
       "layout": {
        "height": 400,
        "legend": {
         "tracegroupgap": 0
        },
        "margin": {
         "t": 60
        },
        "template": {
         "data": {
          "bar": [
           {
            "error_x": {
             "color": "#2a3f5f"
            },
            "error_y": {
             "color": "#2a3f5f"
            },
            "marker": {
             "line": {
              "color": "#E5ECF6",
              "width": 0.5
             }
            },
            "type": "bar"
           }
          ],
          "barpolar": [
           {
            "marker": {
             "line": {
              "color": "#E5ECF6",
              "width": 0.5
             }
            },
            "type": "barpolar"
           }
          ],
          "carpet": [
           {
            "aaxis": {
             "endlinecolor": "#2a3f5f",
             "gridcolor": "white",
             "linecolor": "white",
             "minorgridcolor": "white",
             "startlinecolor": "#2a3f5f"
            },
            "baxis": {
             "endlinecolor": "#2a3f5f",
             "gridcolor": "white",
             "linecolor": "white",
             "minorgridcolor": "white",
             "startlinecolor": "#2a3f5f"
            },
            "type": "carpet"
           }
          ],
          "choropleth": [
           {
            "colorbar": {
             "outlinewidth": 0,
             "ticks": ""
            },
            "type": "choropleth"
           }
          ],
          "contour": [
           {
            "colorbar": {
             "outlinewidth": 0,
             "ticks": ""
            },
            "colorscale": [
             [
              0,
              "#0d0887"
             ],
             [
              0.1111111111111111,
              "#46039f"
             ],
             [
              0.2222222222222222,
              "#7201a8"
             ],
             [
              0.3333333333333333,
              "#9c179e"
             ],
             [
              0.4444444444444444,
              "#bd3786"
             ],
             [
              0.5555555555555556,
              "#d8576b"
             ],
             [
              0.6666666666666666,
              "#ed7953"
             ],
             [
              0.7777777777777778,
              "#fb9f3a"
             ],
             [
              0.8888888888888888,
              "#fdca26"
             ],
             [
              1,
              "#f0f921"
             ]
            ],
            "type": "contour"
           }
          ],
          "contourcarpet": [
           {
            "colorbar": {
             "outlinewidth": 0,
             "ticks": ""
            },
            "type": "contourcarpet"
           }
          ],
          "heatmap": [
           {
            "colorbar": {
             "outlinewidth": 0,
             "ticks": ""
            },
            "colorscale": [
             [
              0,
              "#0d0887"
             ],
             [
              0.1111111111111111,
              "#46039f"
             ],
             [
              0.2222222222222222,
              "#7201a8"
             ],
             [
              0.3333333333333333,
              "#9c179e"
             ],
             [
              0.4444444444444444,
              "#bd3786"
             ],
             [
              0.5555555555555556,
              "#d8576b"
             ],
             [
              0.6666666666666666,
              "#ed7953"
             ],
             [
              0.7777777777777778,
              "#fb9f3a"
             ],
             [
              0.8888888888888888,
              "#fdca26"
             ],
             [
              1,
              "#f0f921"
             ]
            ],
            "type": "heatmap"
           }
          ],
          "heatmapgl": [
           {
            "colorbar": {
             "outlinewidth": 0,
             "ticks": ""
            },
            "colorscale": [
             [
              0,
              "#0d0887"
             ],
             [
              0.1111111111111111,
              "#46039f"
             ],
             [
              0.2222222222222222,
              "#7201a8"
             ],
             [
              0.3333333333333333,
              "#9c179e"
             ],
             [
              0.4444444444444444,
              "#bd3786"
             ],
             [
              0.5555555555555556,
              "#d8576b"
             ],
             [
              0.6666666666666666,
              "#ed7953"
             ],
             [
              0.7777777777777778,
              "#fb9f3a"
             ],
             [
              0.8888888888888888,
              "#fdca26"
             ],
             [
              1,
              "#f0f921"
             ]
            ],
            "type": "heatmapgl"
           }
          ],
          "histogram": [
           {
            "marker": {
             "colorbar": {
              "outlinewidth": 0,
              "ticks": ""
             }
            },
            "type": "histogram"
           }
          ],
          "histogram2d": [
           {
            "colorbar": {
             "outlinewidth": 0,
             "ticks": ""
            },
            "colorscale": [
             [
              0,
              "#0d0887"
             ],
             [
              0.1111111111111111,
              "#46039f"
             ],
             [
              0.2222222222222222,
              "#7201a8"
             ],
             [
              0.3333333333333333,
              "#9c179e"
             ],
             [
              0.4444444444444444,
              "#bd3786"
             ],
             [
              0.5555555555555556,
              "#d8576b"
             ],
             [
              0.6666666666666666,
              "#ed7953"
             ],
             [
              0.7777777777777778,
              "#fb9f3a"
             ],
             [
              0.8888888888888888,
              "#fdca26"
             ],
             [
              1,
              "#f0f921"
             ]
            ],
            "type": "histogram2d"
           }
          ],
          "histogram2dcontour": [
           {
            "colorbar": {
             "outlinewidth": 0,
             "ticks": ""
            },
            "colorscale": [
             [
              0,
              "#0d0887"
             ],
             [
              0.1111111111111111,
              "#46039f"
             ],
             [
              0.2222222222222222,
              "#7201a8"
             ],
             [
              0.3333333333333333,
              "#9c179e"
             ],
             [
              0.4444444444444444,
              "#bd3786"
             ],
             [
              0.5555555555555556,
              "#d8576b"
             ],
             [
              0.6666666666666666,
              "#ed7953"
             ],
             [
              0.7777777777777778,
              "#fb9f3a"
             ],
             [
              0.8888888888888888,
              "#fdca26"
             ],
             [
              1,
              "#f0f921"
             ]
            ],
            "type": "histogram2dcontour"
           }
          ],
          "mesh3d": [
           {
            "colorbar": {
             "outlinewidth": 0,
             "ticks": ""
            },
            "type": "mesh3d"
           }
          ],
          "parcoords": [
           {
            "line": {
             "colorbar": {
              "outlinewidth": 0,
              "ticks": ""
             }
            },
            "type": "parcoords"
           }
          ],
          "pie": [
           {
            "automargin": true,
            "type": "pie"
           }
          ],
          "scatter": [
           {
            "marker": {
             "colorbar": {
              "outlinewidth": 0,
              "ticks": ""
             }
            },
            "type": "scatter"
           }
          ],
          "scatter3d": [
           {
            "line": {
             "colorbar": {
              "outlinewidth": 0,
              "ticks": ""
             }
            },
            "marker": {
             "colorbar": {
              "outlinewidth": 0,
              "ticks": ""
             }
            },
            "type": "scatter3d"
           }
          ],
          "scattercarpet": [
           {
            "marker": {
             "colorbar": {
              "outlinewidth": 0,
              "ticks": ""
             }
            },
            "type": "scattercarpet"
           }
          ],
          "scattergeo": [
           {
            "marker": {
             "colorbar": {
              "outlinewidth": 0,
              "ticks": ""
             }
            },
            "type": "scattergeo"
           }
          ],
          "scattergl": [
           {
            "marker": {
             "colorbar": {
              "outlinewidth": 0,
              "ticks": ""
             }
            },
            "type": "scattergl"
           }
          ],
          "scattermapbox": [
           {
            "marker": {
             "colorbar": {
              "outlinewidth": 0,
              "ticks": ""
             }
            },
            "type": "scattermapbox"
           }
          ],
          "scatterpolar": [
           {
            "marker": {
             "colorbar": {
              "outlinewidth": 0,
              "ticks": ""
             }
            },
            "type": "scatterpolar"
           }
          ],
          "scatterpolargl": [
           {
            "marker": {
             "colorbar": {
              "outlinewidth": 0,
              "ticks": ""
             }
            },
            "type": "scatterpolargl"
           }
          ],
          "scatterternary": [
           {
            "marker": {
             "colorbar": {
              "outlinewidth": 0,
              "ticks": ""
             }
            },
            "type": "scatterternary"
           }
          ],
          "surface": [
           {
            "colorbar": {
             "outlinewidth": 0,
             "ticks": ""
            },
            "colorscale": [
             [
              0,
              "#0d0887"
             ],
             [
              0.1111111111111111,
              "#46039f"
             ],
             [
              0.2222222222222222,
              "#7201a8"
             ],
             [
              0.3333333333333333,
              "#9c179e"
             ],
             [
              0.4444444444444444,
              "#bd3786"
             ],
             [
              0.5555555555555556,
              "#d8576b"
             ],
             [
              0.6666666666666666,
              "#ed7953"
             ],
             [
              0.7777777777777778,
              "#fb9f3a"
             ],
             [
              0.8888888888888888,
              "#fdca26"
             ],
             [
              1,
              "#f0f921"
             ]
            ],
            "type": "surface"
           }
          ],
          "table": [
           {
            "cells": {
             "fill": {
              "color": "#EBF0F8"
             },
             "line": {
              "color": "white"
             }
            },
            "header": {
             "fill": {
              "color": "#C8D4E3"
             },
             "line": {
              "color": "white"
             }
            },
            "type": "table"
           }
          ]
         },
         "layout": {
          "annotationdefaults": {
           "arrowcolor": "#2a3f5f",
           "arrowhead": 0,
           "arrowwidth": 1
          },
          "coloraxis": {
           "colorbar": {
            "outlinewidth": 0,
            "ticks": ""
           }
          },
          "colorscale": {
           "diverging": [
            [
             0,
             "#8e0152"
            ],
            [
             0.1,
             "#c51b7d"
            ],
            [
             0.2,
             "#de77ae"
            ],
            [
             0.3,
             "#f1b6da"
            ],
            [
             0.4,
             "#fde0ef"
            ],
            [
             0.5,
             "#f7f7f7"
            ],
            [
             0.6,
             "#e6f5d0"
            ],
            [
             0.7,
             "#b8e186"
            ],
            [
             0.8,
             "#7fbc41"
            ],
            [
             0.9,
             "#4d9221"
            ],
            [
             1,
             "#276419"
            ]
           ],
           "sequential": [
            [
             0,
             "#0d0887"
            ],
            [
             0.1111111111111111,
             "#46039f"
            ],
            [
             0.2222222222222222,
             "#7201a8"
            ],
            [
             0.3333333333333333,
             "#9c179e"
            ],
            [
             0.4444444444444444,
             "#bd3786"
            ],
            [
             0.5555555555555556,
             "#d8576b"
            ],
            [
             0.6666666666666666,
             "#ed7953"
            ],
            [
             0.7777777777777778,
             "#fb9f3a"
            ],
            [
             0.8888888888888888,
             "#fdca26"
            ],
            [
             1,
             "#f0f921"
            ]
           ],
           "sequentialminus": [
            [
             0,
             "#0d0887"
            ],
            [
             0.1111111111111111,
             "#46039f"
            ],
            [
             0.2222222222222222,
             "#7201a8"
            ],
            [
             0.3333333333333333,
             "#9c179e"
            ],
            [
             0.4444444444444444,
             "#bd3786"
            ],
            [
             0.5555555555555556,
             "#d8576b"
            ],
            [
             0.6666666666666666,
             "#ed7953"
            ],
            [
             0.7777777777777778,
             "#fb9f3a"
            ],
            [
             0.8888888888888888,
             "#fdca26"
            ],
            [
             1,
             "#f0f921"
            ]
           ]
          },
          "colorway": [
           "#636efa",
           "#EF553B",
           "#00cc96",
           "#ab63fa",
           "#FFA15A",
           "#19d3f3",
           "#FF6692",
           "#B6E880",
           "#FF97FF",
           "#FECB52"
          ],
          "font": {
           "color": "#2a3f5f"
          },
          "geo": {
           "bgcolor": "white",
           "lakecolor": "white",
           "landcolor": "#E5ECF6",
           "showlakes": true,
           "showland": true,
           "subunitcolor": "white"
          },
          "hoverlabel": {
           "align": "left"
          },
          "hovermode": "closest",
          "mapbox": {
           "style": "light"
          },
          "paper_bgcolor": "white",
          "plot_bgcolor": "#E5ECF6",
          "polar": {
           "angularaxis": {
            "gridcolor": "white",
            "linecolor": "white",
            "ticks": ""
           },
           "bgcolor": "#E5ECF6",
           "radialaxis": {
            "gridcolor": "white",
            "linecolor": "white",
            "ticks": ""
           }
          },
          "scene": {
           "xaxis": {
            "backgroundcolor": "#E5ECF6",
            "gridcolor": "white",
            "gridwidth": 2,
            "linecolor": "white",
            "showbackground": true,
            "ticks": "",
            "zerolinecolor": "white"
           },
           "yaxis": {
            "backgroundcolor": "#E5ECF6",
            "gridcolor": "white",
            "gridwidth": 2,
            "linecolor": "white",
            "showbackground": true,
            "ticks": "",
            "zerolinecolor": "white"
           },
           "zaxis": {
            "backgroundcolor": "#E5ECF6",
            "gridcolor": "white",
            "gridwidth": 2,
            "linecolor": "white",
            "showbackground": true,
            "ticks": "",
            "zerolinecolor": "white"
           }
          },
          "shapedefaults": {
           "line": {
            "color": "#2a3f5f"
           }
          },
          "ternary": {
           "aaxis": {
            "gridcolor": "white",
            "linecolor": "white",
            "ticks": ""
           },
           "baxis": {
            "gridcolor": "white",
            "linecolor": "white",
            "ticks": ""
           },
           "bgcolor": "#E5ECF6",
           "caxis": {
            "gridcolor": "white",
            "linecolor": "white",
            "ticks": ""
           }
          },
          "title": {
           "x": 0.05
          },
          "xaxis": {
           "automargin": true,
           "gridcolor": "white",
           "linecolor": "white",
           "ticks": "",
           "title": {
            "standoff": 15
           },
           "zerolinecolor": "white",
           "zerolinewidth": 2
          },
          "yaxis": {
           "automargin": true,
           "gridcolor": "white",
           "linecolor": "white",
           "ticks": "",
           "title": {
            "standoff": 15
           },
           "zerolinecolor": "white",
           "zerolinewidth": 2
          }
         }
        },
        "width": 800,
        "xaxis": {
         "anchor": "y",
         "domain": [
          0,
          0.7363
         ],
         "title": {
          "text": "Netherlands, Gelderland, Rheden tempMax"
         }
        },
        "xaxis2": {
         "anchor": "y2",
         "domain": [
          0.7413,
          1
         ],
         "matches": "x2",
         "showgrid": false,
         "showline": false,
         "showticklabels": false,
         "ticks": ""
        },
        "yaxis": {
         "anchor": "x",
         "domain": [
          0,
          1
         ],
         "title": {
          "text": "De Elsberg 1"
         }
        },
        "yaxis2": {
         "anchor": "x2",
         "domain": [
          0,
          1
         ],
         "matches": "y",
         "showgrid": true,
         "showticklabels": false
        }
       }
      }
     },
     "metadata": {}
    }
   ],
   "source": [
    "px.scatter(weather_visitors, x='Netherlands, Gelderland, Rheden tempMax', y='De Elsberg 1', marginal_y = 'box', color='Weekday Name', trendline= 'ols',\n",
    "                 width=800, height=400)"
   ]
  }
 ],
 "metadata": {
  "language_info": {
   "codemirror_mode": {
    "name": "ipython",
    "version": 3
   },
   "file_extension": ".py",
   "mimetype": "text/x-python",
   "name": "python",
   "nbconvert_exporter": "python",
   "pygments_lexer": "ipython3",
   "version": "3.7.1-final"
  },
  "orig_nbformat": 2,
  "kernelspec": {
   "name": "python3",
   "display_name": "Python 3"
  }
 },
 "nbformat": 4,
 "nbformat_minor": 2
}